{
 "cells": [
  {
   "cell_type": "markdown",
   "metadata": {},
   "source": [
    "## goal: try to predict age of a person based on biomarkers\n",
    "i have chosen an age prediction dataset from kaggle(avaliable [here](https://www.kaggle.com/competitions/precision-health-predicting-human-age-with-biomark/data))\n",
    "\n",
    "the dataset contains a sample of 3000 people with their age, biomarkers and other features\n"
   ]
  },
  {
   "cell_type": "code",
   "execution_count": 166,
   "metadata": {},
   "outputs": [],
   "source": [
    "# import basic libraries\n",
    "import pandas as pd\n",
    "import numpy as np\n",
    "random_state = 42"
   ]
  },
  {
   "cell_type": "markdown",
   "metadata": {},
   "source": [
    "## data loading \n",
    "- load data and display basic info"
   ]
  },
  {
   "cell_type": "code",
   "execution_count": 167,
   "metadata": {},
   "outputs": [
    {
     "data": {
      "text/html": [
       "<div>\n",
       "<style scoped>\n",
       "    .dataframe tbody tr th:only-of-type {\n",
       "        vertical-align: middle;\n",
       "    }\n",
       "\n",
       "    .dataframe tbody tr th {\n",
       "        vertical-align: top;\n",
       "    }\n",
       "\n",
       "    .dataframe thead th {\n",
       "        text-align: right;\n",
       "    }\n",
       "</style>\n",
       "<table border=\"1\" class=\"dataframe\">\n",
       "  <thead>\n",
       "    <tr style=\"text-align: right;\">\n",
       "      <th></th>\n",
       "      <th>ID</th>\n",
       "      <th>Gender</th>\n",
       "      <th>Height (cm)</th>\n",
       "      <th>Weight (kg)</th>\n",
       "      <th>Blood Pressure (s/d)</th>\n",
       "      <th>Cholesterol Level (mg/dL)</th>\n",
       "      <th>BMI</th>\n",
       "      <th>Blood Glucose Level (mg/dL)</th>\n",
       "      <th>Bone Density (g/cm²)</th>\n",
       "      <th>Vision Sharpness</th>\n",
       "      <th>...</th>\n",
       "      <th>Family History</th>\n",
       "      <th>Cognitive Function</th>\n",
       "      <th>Mental Health Status</th>\n",
       "      <th>Sleep Patterns</th>\n",
       "      <th>Stress Levels</th>\n",
       "      <th>Pollution Exposure</th>\n",
       "      <th>Sun Exposure</th>\n",
       "      <th>Education Level</th>\n",
       "      <th>Income Level</th>\n",
       "      <th>Age (years)</th>\n",
       "    </tr>\n",
       "  </thead>\n",
       "  <tbody>\n",
       "    <tr>\n",
       "      <th>0</th>\n",
       "      <td>1</td>\n",
       "      <td>Male</td>\n",
       "      <td>171.148359</td>\n",
       "      <td>86.185197</td>\n",
       "      <td>151/109</td>\n",
       "      <td>259.465814</td>\n",
       "      <td>29.423017</td>\n",
       "      <td>157.652848</td>\n",
       "      <td>0.132868</td>\n",
       "      <td>0.200000</td>\n",
       "      <td>...</td>\n",
       "      <td>NaN</td>\n",
       "      <td>44.059172</td>\n",
       "      <td>Good</td>\n",
       "      <td>Insomnia</td>\n",
       "      <td>2.797064</td>\n",
       "      <td>5.142344</td>\n",
       "      <td>7.108975</td>\n",
       "      <td>NaN</td>\n",
       "      <td>Medium</td>\n",
       "      <td>89</td>\n",
       "    </tr>\n",
       "    <tr>\n",
       "      <th>1</th>\n",
       "      <td>2</td>\n",
       "      <td>Male</td>\n",
       "      <td>172.946206</td>\n",
       "      <td>79.641937</td>\n",
       "      <td>134/112</td>\n",
       "      <td>263.630292</td>\n",
       "      <td>26.626847</td>\n",
       "      <td>118.507805</td>\n",
       "      <td>0.629534</td>\n",
       "      <td>0.267312</td>\n",
       "      <td>...</td>\n",
       "      <td>Heart Disease</td>\n",
       "      <td>45.312298</td>\n",
       "      <td>Good</td>\n",
       "      <td>Normal</td>\n",
       "      <td>9.339930</td>\n",
       "      <td>7.272720</td>\n",
       "      <td>3.918489</td>\n",
       "      <td>Undergraduate</td>\n",
       "      <td>Medium</td>\n",
       "      <td>77</td>\n",
       "    </tr>\n",
       "    <tr>\n",
       "      <th>2</th>\n",
       "      <td>3</td>\n",
       "      <td>Female</td>\n",
       "      <td>155.945488</td>\n",
       "      <td>49.167058</td>\n",
       "      <td>160/101</td>\n",
       "      <td>207.846206</td>\n",
       "      <td>20.217553</td>\n",
       "      <td>143.587550</td>\n",
       "      <td>0.473487</td>\n",
       "      <td>0.248667</td>\n",
       "      <td>...</td>\n",
       "      <td>Hypertension</td>\n",
       "      <td>56.246991</td>\n",
       "      <td>Poor</td>\n",
       "      <td>Insomnia</td>\n",
       "      <td>9.234637</td>\n",
       "      <td>8.500386</td>\n",
       "      <td>5.393408</td>\n",
       "      <td>NaN</td>\n",
       "      <td>Medium</td>\n",
       "      <td>70</td>\n",
       "    </tr>\n",
       "    <tr>\n",
       "      <th>3</th>\n",
       "      <td>4</td>\n",
       "      <td>Female</td>\n",
       "      <td>169.078298</td>\n",
       "      <td>56.017921</td>\n",
       "      <td>133/94</td>\n",
       "      <td>253.283779</td>\n",
       "      <td>19.595270</td>\n",
       "      <td>137.448581</td>\n",
       "      <td>1.184315</td>\n",
       "      <td>0.513818</td>\n",
       "      <td>...</td>\n",
       "      <td>Hypertension</td>\n",
       "      <td>55.196092</td>\n",
       "      <td>Poor</td>\n",
       "      <td>Insomnia</td>\n",
       "      <td>4.693446</td>\n",
       "      <td>7.555511</td>\n",
       "      <td>2.745578</td>\n",
       "      <td>NaN</td>\n",
       "      <td>Low</td>\n",
       "      <td>52</td>\n",
       "    </tr>\n",
       "    <tr>\n",
       "      <th>4</th>\n",
       "      <td>5</td>\n",
       "      <td>Female</td>\n",
       "      <td>163.758355</td>\n",
       "      <td>73.966304</td>\n",
       "      <td>170/106</td>\n",
       "      <td>236.119899</td>\n",
       "      <td>27.582078</td>\n",
       "      <td>145.328695</td>\n",
       "      <td>0.434562</td>\n",
       "      <td>0.306864</td>\n",
       "      <td>...</td>\n",
       "      <td>NaN</td>\n",
       "      <td>53.023379</td>\n",
       "      <td>Good</td>\n",
       "      <td>Normal</td>\n",
       "      <td>4.038537</td>\n",
       "      <td>9.429097</td>\n",
       "      <td>3.878435</td>\n",
       "      <td>Undergraduate</td>\n",
       "      <td>High</td>\n",
       "      <td>79</td>\n",
       "    </tr>\n",
       "    <tr>\n",
       "      <th>...</th>\n",
       "      <td>...</td>\n",
       "      <td>...</td>\n",
       "      <td>...</td>\n",
       "      <td>...</td>\n",
       "      <td>...</td>\n",
       "      <td>...</td>\n",
       "      <td>...</td>\n",
       "      <td>...</td>\n",
       "      <td>...</td>\n",
       "      <td>...</td>\n",
       "      <td>...</td>\n",
       "      <td>...</td>\n",
       "      <td>...</td>\n",
       "      <td>...</td>\n",
       "      <td>...</td>\n",
       "      <td>...</td>\n",
       "      <td>...</td>\n",
       "      <td>...</td>\n",
       "      <td>...</td>\n",
       "      <td>...</td>\n",
       "      <td>...</td>\n",
       "    </tr>\n",
       "    <tr>\n",
       "      <th>2995</th>\n",
       "      <td>2996</td>\n",
       "      <td>Male</td>\n",
       "      <td>161.632502</td>\n",
       "      <td>88.323405</td>\n",
       "      <td>134/91</td>\n",
       "      <td>204.175510</td>\n",
       "      <td>33.807917</td>\n",
       "      <td>112.075747</td>\n",
       "      <td>1.583006</td>\n",
       "      <td>0.665907</td>\n",
       "      <td>...</td>\n",
       "      <td>Diabetes</td>\n",
       "      <td>57.820282</td>\n",
       "      <td>Fair</td>\n",
       "      <td>Normal</td>\n",
       "      <td>8.091897</td>\n",
       "      <td>9.846088</td>\n",
       "      <td>9.111205</td>\n",
       "      <td>Undergraduate</td>\n",
       "      <td>High</td>\n",
       "      <td>22</td>\n",
       "    </tr>\n",
       "    <tr>\n",
       "      <th>2996</th>\n",
       "      <td>2997</td>\n",
       "      <td>Male</td>\n",
       "      <td>163.443512</td>\n",
       "      <td>93.217007</td>\n",
       "      <td>110/78</td>\n",
       "      <td>197.384424</td>\n",
       "      <td>34.894725</td>\n",
       "      <td>101.177692</td>\n",
       "      <td>1.785129</td>\n",
       "      <td>0.720304</td>\n",
       "      <td>...</td>\n",
       "      <td>Heart Disease</td>\n",
       "      <td>68.783715</td>\n",
       "      <td>Good</td>\n",
       "      <td>Normal</td>\n",
       "      <td>2.427081</td>\n",
       "      <td>1.141303</td>\n",
       "      <td>8.578184</td>\n",
       "      <td>Undergraduate</td>\n",
       "      <td>Medium</td>\n",
       "      <td>19</td>\n",
       "    </tr>\n",
       "    <tr>\n",
       "      <th>2997</th>\n",
       "      <td>2998</td>\n",
       "      <td>Male</td>\n",
       "      <td>177.857644</td>\n",
       "      <td>86.258847</td>\n",
       "      <td>159/116</td>\n",
       "      <td>238.641542</td>\n",
       "      <td>27.268332</td>\n",
       "      <td>110.548146</td>\n",
       "      <td>0.366012</td>\n",
       "      <td>0.200000</td>\n",
       "      <td>...</td>\n",
       "      <td>NaN</td>\n",
       "      <td>50.133807</td>\n",
       "      <td>Fair</td>\n",
       "      <td>Normal</td>\n",
       "      <td>7.671837</td>\n",
       "      <td>5.101134</td>\n",
       "      <td>2.199199</td>\n",
       "      <td>Undergraduate</td>\n",
       "      <td>Low</td>\n",
       "      <td>85</td>\n",
       "    </tr>\n",
       "    <tr>\n",
       "      <th>2998</th>\n",
       "      <td>2999</td>\n",
       "      <td>Female</td>\n",
       "      <td>162.287164</td>\n",
       "      <td>41.371018</td>\n",
       "      <td>134/82</td>\n",
       "      <td>198.244328</td>\n",
       "      <td>15.708252</td>\n",
       "      <td>123.704379</td>\n",
       "      <td>1.452963</td>\n",
       "      <td>0.648158</td>\n",
       "      <td>...</td>\n",
       "      <td>Hypertension</td>\n",
       "      <td>68.864629</td>\n",
       "      <td>Good</td>\n",
       "      <td>Insomnia</td>\n",
       "      <td>7.920076</td>\n",
       "      <td>4.452130</td>\n",
       "      <td>5.051613</td>\n",
       "      <td>NaN</td>\n",
       "      <td>High</td>\n",
       "      <td>30</td>\n",
       "    </tr>\n",
       "    <tr>\n",
       "      <th>2999</th>\n",
       "      <td>3000</td>\n",
       "      <td>Male</td>\n",
       "      <td>175.341710</td>\n",
       "      <td>78.718038</td>\n",
       "      <td>167/91</td>\n",
       "      <td>279.118184</td>\n",
       "      <td>25.603762</td>\n",
       "      <td>156.577316</td>\n",
       "      <td>0.704319</td>\n",
       "      <td>0.578625</td>\n",
       "      <td>...</td>\n",
       "      <td>Hypertension</td>\n",
       "      <td>60.892114</td>\n",
       "      <td>Poor</td>\n",
       "      <td>Insomnia</td>\n",
       "      <td>8.013913</td>\n",
       "      <td>4.624968</td>\n",
       "      <td>3.745138</td>\n",
       "      <td>High School</td>\n",
       "      <td>High</td>\n",
       "      <td>66</td>\n",
       "    </tr>\n",
       "  </tbody>\n",
       "</table>\n",
       "<p>3000 rows × 27 columns</p>\n",
       "</div>"
      ],
      "text/plain": [
       "        ID  Gender  Height (cm)  Weight (kg) Blood Pressure (s/d)  \\\n",
       "0        1    Male   171.148359    86.185197              151/109   \n",
       "1        2    Male   172.946206    79.641937              134/112   \n",
       "2        3  Female   155.945488    49.167058              160/101   \n",
       "3        4  Female   169.078298    56.017921               133/94   \n",
       "4        5  Female   163.758355    73.966304              170/106   \n",
       "...    ...     ...          ...          ...                  ...   \n",
       "2995  2996    Male   161.632502    88.323405               134/91   \n",
       "2996  2997    Male   163.443512    93.217007               110/78   \n",
       "2997  2998    Male   177.857644    86.258847              159/116   \n",
       "2998  2999  Female   162.287164    41.371018               134/82   \n",
       "2999  3000    Male   175.341710    78.718038               167/91   \n",
       "\n",
       "      Cholesterol Level (mg/dL)        BMI  Blood Glucose Level (mg/dL)  \\\n",
       "0                    259.465814  29.423017                   157.652848   \n",
       "1                    263.630292  26.626847                   118.507805   \n",
       "2                    207.846206  20.217553                   143.587550   \n",
       "3                    253.283779  19.595270                   137.448581   \n",
       "4                    236.119899  27.582078                   145.328695   \n",
       "...                         ...        ...                          ...   \n",
       "2995                 204.175510  33.807917                   112.075747   \n",
       "2996                 197.384424  34.894725                   101.177692   \n",
       "2997                 238.641542  27.268332                   110.548146   \n",
       "2998                 198.244328  15.708252                   123.704379   \n",
       "2999                 279.118184  25.603762                   156.577316   \n",
       "\n",
       "      Bone Density (g/cm²)  Vision Sharpness  ...  Family History  \\\n",
       "0                 0.132868          0.200000  ...             NaN   \n",
       "1                 0.629534          0.267312  ...   Heart Disease   \n",
       "2                 0.473487          0.248667  ...    Hypertension   \n",
       "3                 1.184315          0.513818  ...    Hypertension   \n",
       "4                 0.434562          0.306864  ...             NaN   \n",
       "...                    ...               ...  ...             ...   \n",
       "2995              1.583006          0.665907  ...        Diabetes   \n",
       "2996              1.785129          0.720304  ...   Heart Disease   \n",
       "2997              0.366012          0.200000  ...             NaN   \n",
       "2998              1.452963          0.648158  ...    Hypertension   \n",
       "2999              0.704319          0.578625  ...    Hypertension   \n",
       "\n",
       "     Cognitive Function Mental Health Status Sleep Patterns Stress Levels  \\\n",
       "0             44.059172                 Good       Insomnia      2.797064   \n",
       "1             45.312298                 Good         Normal      9.339930   \n",
       "2             56.246991                 Poor       Insomnia      9.234637   \n",
       "3             55.196092                 Poor       Insomnia      4.693446   \n",
       "4             53.023379                 Good         Normal      4.038537   \n",
       "...                 ...                  ...            ...           ...   \n",
       "2995          57.820282                 Fair         Normal      8.091897   \n",
       "2996          68.783715                 Good         Normal      2.427081   \n",
       "2997          50.133807                 Fair         Normal      7.671837   \n",
       "2998          68.864629                 Good       Insomnia      7.920076   \n",
       "2999          60.892114                 Poor       Insomnia      8.013913   \n",
       "\n",
       "     Pollution Exposure Sun Exposure Education Level  Income Level Age (years)  \n",
       "0              5.142344     7.108975             NaN        Medium          89  \n",
       "1              7.272720     3.918489   Undergraduate        Medium          77  \n",
       "2              8.500386     5.393408             NaN        Medium          70  \n",
       "3              7.555511     2.745578             NaN           Low          52  \n",
       "4              9.429097     3.878435   Undergraduate          High          79  \n",
       "...                 ...          ...             ...           ...         ...  \n",
       "2995           9.846088     9.111205   Undergraduate          High          22  \n",
       "2996           1.141303     8.578184   Undergraduate        Medium          19  \n",
       "2997           5.101134     2.199199   Undergraduate           Low          85  \n",
       "2998           4.452130     5.051613             NaN          High          30  \n",
       "2999           4.624968     3.745138     High School          High          66  \n",
       "\n",
       "[3000 rows x 27 columns]"
      ]
     },
     "metadata": {},
     "output_type": "display_data"
    }
   ],
   "source": [
    "train_data = pd.read_csv(\n",
    "    './precision-health-predicting-human-age-with-biomark/Train.csv')\n",
    "\n",
    "display(train_data)"
   ]
  },
  {
   "cell_type": "code",
   "execution_count": 168,
   "metadata": {},
   "outputs": [
    {
     "data": {
      "text/html": [
       "<div>\n",
       "<style scoped>\n",
       "    .dataframe tbody tr th:only-of-type {\n",
       "        vertical-align: middle;\n",
       "    }\n",
       "\n",
       "    .dataframe tbody tr th {\n",
       "        vertical-align: top;\n",
       "    }\n",
       "\n",
       "    .dataframe thead th {\n",
       "        text-align: right;\n",
       "    }\n",
       "</style>\n",
       "<table border=\"1\" class=\"dataframe\">\n",
       "  <thead>\n",
       "    <tr style=\"text-align: right;\">\n",
       "      <th></th>\n",
       "      <th>ID</th>\n",
       "      <th>Height (cm)</th>\n",
       "      <th>Weight (kg)</th>\n",
       "      <th>Cholesterol Level (mg/dL)</th>\n",
       "      <th>BMI</th>\n",
       "      <th>Blood Glucose Level (mg/dL)</th>\n",
       "      <th>Bone Density (g/cm²)</th>\n",
       "      <th>Vision Sharpness</th>\n",
       "      <th>Hearing Ability (dB)</th>\n",
       "      <th>Cognitive Function</th>\n",
       "      <th>Stress Levels</th>\n",
       "      <th>Pollution Exposure</th>\n",
       "      <th>Sun Exposure</th>\n",
       "      <th>Age (years)</th>\n",
       "    </tr>\n",
       "  </thead>\n",
       "  <tbody>\n",
       "    <tr>\n",
       "      <th>count</th>\n",
       "      <td>3000.000000</td>\n",
       "      <td>3000.000000</td>\n",
       "      <td>3000.000000</td>\n",
       "      <td>3000.000000</td>\n",
       "      <td>3000.000000</td>\n",
       "      <td>3000.000000</td>\n",
       "      <td>3000.000000</td>\n",
       "      <td>3000.000000</td>\n",
       "      <td>3000.000000</td>\n",
       "      <td>3000.000000</td>\n",
       "      <td>3000.000000</td>\n",
       "      <td>3000.000000</td>\n",
       "      <td>3000.000000</td>\n",
       "      <td>3000.000000</td>\n",
       "    </tr>\n",
       "    <tr>\n",
       "      <th>mean</th>\n",
       "      <td>1500.500000</td>\n",
       "      <td>168.590835</td>\n",
       "      <td>72.537260</td>\n",
       "      <td>234.029794</td>\n",
       "      <td>25.550146</td>\n",
       "      <td>126.653909</td>\n",
       "      <td>0.931899</td>\n",
       "      <td>0.474591</td>\n",
       "      <td>47.016214</td>\n",
       "      <td>63.868376</td>\n",
       "      <td>5.476507</td>\n",
       "      <td>5.028982</td>\n",
       "      <td>5.955785</td>\n",
       "      <td>53.485667</td>\n",
       "    </tr>\n",
       "    <tr>\n",
       "      <th>std</th>\n",
       "      <td>866.169729</td>\n",
       "      <td>9.293006</td>\n",
       "      <td>13.190734</td>\n",
       "      <td>24.521436</td>\n",
       "      <td>4.367322</td>\n",
       "      <td>18.226124</td>\n",
       "      <td>0.443550</td>\n",
       "      <td>0.209726</td>\n",
       "      <td>14.336464</td>\n",
       "      <td>11.755738</td>\n",
       "      <td>2.584901</td>\n",
       "      <td>2.871408</td>\n",
       "      <td>3.474595</td>\n",
       "      <td>20.569690</td>\n",
       "    </tr>\n",
       "    <tr>\n",
       "      <th>min</th>\n",
       "      <td>1.000000</td>\n",
       "      <td>141.130985</td>\n",
       "      <td>32.537672</td>\n",
       "      <td>148.811514</td>\n",
       "      <td>12.049900</td>\n",
       "      <td>69.866884</td>\n",
       "      <td>-0.219787</td>\n",
       "      <td>0.200000</td>\n",
       "      <td>0.000000</td>\n",
       "      <td>30.382098</td>\n",
       "      <td>1.000428</td>\n",
       "      <td>0.006395</td>\n",
       "      <td>0.002055</td>\n",
       "      <td>18.000000</td>\n",
       "    </tr>\n",
       "    <tr>\n",
       "      <th>25%</th>\n",
       "      <td>750.750000</td>\n",
       "      <td>161.629515</td>\n",
       "      <td>63.222773</td>\n",
       "      <td>216.756601</td>\n",
       "      <td>22.454115</td>\n",
       "      <td>114.392605</td>\n",
       "      <td>0.561063</td>\n",
       "      <td>0.281671</td>\n",
       "      <td>36.734775</td>\n",
       "      <td>55.647794</td>\n",
       "      <td>3.221745</td>\n",
       "      <td>2.607185</td>\n",
       "      <td>2.873285</td>\n",
       "      <td>36.000000</td>\n",
       "    </tr>\n",
       "    <tr>\n",
       "      <th>50%</th>\n",
       "      <td>1500.500000</td>\n",
       "      <td>168.215632</td>\n",
       "      <td>71.448651</td>\n",
       "      <td>234.376822</td>\n",
       "      <td>25.352113</td>\n",
       "      <td>126.802186</td>\n",
       "      <td>0.939585</td>\n",
       "      <td>0.462070</td>\n",
       "      <td>46.963733</td>\n",
       "      <td>64.014652</td>\n",
       "      <td>5.496618</td>\n",
       "      <td>5.095686</td>\n",
       "      <td>5.956789</td>\n",
       "      <td>53.000000</td>\n",
       "    </tr>\n",
       "    <tr>\n",
       "      <th>75%</th>\n",
       "      <td>2250.250000</td>\n",
       "      <td>175.522665</td>\n",
       "      <td>81.702801</td>\n",
       "      <td>250.646674</td>\n",
       "      <td>28.403543</td>\n",
       "      <td>139.377079</td>\n",
       "      <td>1.294570</td>\n",
       "      <td>0.639498</td>\n",
       "      <td>56.828847</td>\n",
       "      <td>72.087453</td>\n",
       "      <td>7.680320</td>\n",
       "      <td>7.476338</td>\n",
       "      <td>8.991349</td>\n",
       "      <td>72.000000</td>\n",
       "    </tr>\n",
       "    <tr>\n",
       "      <th>max</th>\n",
       "      <td>3000.000000</td>\n",
       "      <td>198.112215</td>\n",
       "      <td>123.598603</td>\n",
       "      <td>331.300589</td>\n",
       "      <td>43.329869</td>\n",
       "      <td>185.736144</td>\n",
       "      <td>1.999829</td>\n",
       "      <td>1.062537</td>\n",
       "      <td>94.003824</td>\n",
       "      <td>106.479831</td>\n",
       "      <td>9.996323</td>\n",
       "      <td>9.998090</td>\n",
       "      <td>11.992504</td>\n",
       "      <td>89.000000</td>\n",
       "    </tr>\n",
       "  </tbody>\n",
       "</table>\n",
       "</div>"
      ],
      "text/plain": [
       "                ID  Height (cm)  Weight (kg)  Cholesterol Level (mg/dL)  \\\n",
       "count  3000.000000  3000.000000  3000.000000                3000.000000   \n",
       "mean   1500.500000   168.590835    72.537260                 234.029794   \n",
       "std     866.169729     9.293006    13.190734                  24.521436   \n",
       "min       1.000000   141.130985    32.537672                 148.811514   \n",
       "25%     750.750000   161.629515    63.222773                 216.756601   \n",
       "50%    1500.500000   168.215632    71.448651                 234.376822   \n",
       "75%    2250.250000   175.522665    81.702801                 250.646674   \n",
       "max    3000.000000   198.112215   123.598603                 331.300589   \n",
       "\n",
       "               BMI  Blood Glucose Level (mg/dL)  Bone Density (g/cm²)  \\\n",
       "count  3000.000000                  3000.000000           3000.000000   \n",
       "mean     25.550146                   126.653909              0.931899   \n",
       "std       4.367322                    18.226124              0.443550   \n",
       "min      12.049900                    69.866884             -0.219787   \n",
       "25%      22.454115                   114.392605              0.561063   \n",
       "50%      25.352113                   126.802186              0.939585   \n",
       "75%      28.403543                   139.377079              1.294570   \n",
       "max      43.329869                   185.736144              1.999829   \n",
       "\n",
       "       Vision Sharpness  Hearing Ability (dB)  Cognitive Function  \\\n",
       "count       3000.000000           3000.000000         3000.000000   \n",
       "mean           0.474591             47.016214           63.868376   \n",
       "std            0.209726             14.336464           11.755738   \n",
       "min            0.200000              0.000000           30.382098   \n",
       "25%            0.281671             36.734775           55.647794   \n",
       "50%            0.462070             46.963733           64.014652   \n",
       "75%            0.639498             56.828847           72.087453   \n",
       "max            1.062537             94.003824          106.479831   \n",
       "\n",
       "       Stress Levels  Pollution Exposure  Sun Exposure  Age (years)  \n",
       "count    3000.000000         3000.000000   3000.000000  3000.000000  \n",
       "mean        5.476507            5.028982      5.955785    53.485667  \n",
       "std         2.584901            2.871408      3.474595    20.569690  \n",
       "min         1.000428            0.006395      0.002055    18.000000  \n",
       "25%         3.221745            2.607185      2.873285    36.000000  \n",
       "50%         5.496618            5.095686      5.956789    53.000000  \n",
       "75%         7.680320            7.476338      8.991349    72.000000  \n",
       "max         9.996323            9.998090     11.992504    89.000000  "
      ]
     },
     "metadata": {},
     "output_type": "display_data"
    },
    {
     "name": "stdout",
     "output_type": "stream",
     "text": [
      "<class 'pandas.core.frame.DataFrame'>\n",
      "RangeIndex: 3000 entries, 0 to 2999\n",
      "Data columns (total 27 columns):\n",
      " #   Column                       Non-Null Count  Dtype  \n",
      "---  ------                       --------------  -----  \n",
      " 0   ID                           3000 non-null   int64  \n",
      " 1   Gender                       3000 non-null   object \n",
      " 2   Height (cm)                  3000 non-null   float64\n",
      " 3   Weight (kg)                  3000 non-null   float64\n",
      " 4   Blood Pressure (s/d)         3000 non-null   object \n",
      " 5   Cholesterol Level (mg/dL)    3000 non-null   float64\n",
      " 6   BMI                          3000 non-null   float64\n",
      " 7   Blood Glucose Level (mg/dL)  3000 non-null   float64\n",
      " 8   Bone Density (g/cm²)         3000 non-null   float64\n",
      " 9   Vision Sharpness             3000 non-null   float64\n",
      " 10  Hearing Ability (dB)         3000 non-null   float64\n",
      " 11  Physical Activity Level      3000 non-null   object \n",
      " 12  Smoking Status               3000 non-null   object \n",
      " 13  Alcohol Consumption          1799 non-null   object \n",
      " 14  Diet                         3000 non-null   object \n",
      " 15  Chronic Diseases             1701 non-null   object \n",
      " 16  Medication Use               1802 non-null   object \n",
      " 17  Family History               1549 non-null   object \n",
      " 18  Cognitive Function           3000 non-null   float64\n",
      " 19  Mental Health Status         3000 non-null   object \n",
      " 20  Sleep Patterns               3000 non-null   object \n",
      " 21  Stress Levels                3000 non-null   float64\n",
      " 22  Pollution Exposure           3000 non-null   float64\n",
      " 23  Sun Exposure                 3000 non-null   float64\n",
      " 24  Education Level              2373 non-null   object \n",
      " 25  Income Level                 3000 non-null   object \n",
      " 26  Age (years)                  3000 non-null   int64  \n",
      "dtypes: float64(12), int64(2), object(13)\n",
      "memory usage: 632.9+ KB\n"
     ]
    },
    {
     "data": {
      "text/plain": [
       "None"
      ]
     },
     "metadata": {},
     "output_type": "display_data"
    },
    {
     "data": {
      "text/plain": [
       "Family History                 1451\n",
       "Chronic Diseases               1299\n",
       "Alcohol Consumption            1201\n",
       "Medication Use                 1198\n",
       "Education Level                 627\n",
       "Diet                              0\n",
       "Income Level                      0\n",
       "Sun Exposure                      0\n",
       "Pollution Exposure                0\n",
       "Stress Levels                     0\n",
       "Sleep Patterns                    0\n",
       "Mental Health Status              0\n",
       "Cognitive Function                0\n",
       "ID                                0\n",
       "Gender                            0\n",
       "Smoking Status                    0\n",
       "Physical Activity Level           0\n",
       "Hearing Ability (dB)              0\n",
       "Vision Sharpness                  0\n",
       "Bone Density (g/cm²)              0\n",
       "Blood Glucose Level (mg/dL)       0\n",
       "BMI                               0\n",
       "Cholesterol Level (mg/dL)         0\n",
       "Blood Pressure (s/d)              0\n",
       "Weight (kg)                       0\n",
       "Height (cm)                       0\n",
       "Age (years)                       0\n",
       "dtype: int64"
      ]
     },
     "metadata": {},
     "output_type": "display_data"
    }
   ],
   "source": [
    "display(train_data.describe())\n",
    "display(train_data.info())\n",
    "display(train_data.isnull().sum().sort_values(ascending=False))\n"
   ]
  },
  {
   "cell_type": "markdown",
   "metadata": {},
   "source": [
    "- looks like there are some missing values in the dataset - i will try to fill them somehow later\n",
    "- another problem are the categorical variables - i will try to convert them to numerical\n",
    "- i will also try to separate blood pressure into systolic and diastolic as it isn't meaningful as a single categorical value"
   ]
  },
  {
   "cell_type": "markdown",
   "metadata": {},
   "source": [
    "## feature engineering"
   ]
  },
  {
   "cell_type": "code",
   "execution_count": 169,
   "metadata": {},
   "outputs": [],
   "source": [
    "\n",
    "# separate blood pressure into systolic and diastolic\n",
    "blood_pressure = 'Blood Pressure (s/d)'\n",
    "train_data['SystolicBP'] = train_data[blood_pressure].str.split(\n",
    "    '/').str[0].astype(int)\n",
    "train_data['DiastolicBP'] = train_data[blood_pressure].str.split(\n",
    "    '/').str[1].astype(int)\n",
    "\n",
    "\n",
    "train_data.drop(columns=[blood_pressure], inplace=True)"
   ]
  },
  {
   "cell_type": "markdown",
   "metadata": {},
   "source": [
    "## handling categorical data\n",
    "- i have identified several ordinal variables - will create special pandas categories for them \n",
    "- i will keep the nominal variables as they are and later convert them to dummies"
   ]
  },
  {
   "cell_type": "code",
   "execution_count": 170,
   "metadata": {},
   "outputs": [
    {
     "data": {
      "text/plain": [
       "'Physical Activity Level'"
      ]
     },
     "metadata": {},
     "output_type": "display_data"
    },
    {
     "data": {
      "text/plain": [
       "['Medium', 'Low', 'High']\n",
       "Categories (3, object): ['Low' < 'Medium' < 'High']"
      ]
     },
     "metadata": {},
     "output_type": "display_data"
    },
    {
     "data": {
      "text/plain": [
       "'Mental Health Status'"
      ]
     },
     "metadata": {},
     "output_type": "display_data"
    },
    {
     "data": {
      "text/plain": [
       "['Good', 'Poor', 'Fair', 'Excellent']\n",
       "Categories (4, object): ['Poor' < 'Fair' < 'Good' < 'Excellent']"
      ]
     },
     "metadata": {},
     "output_type": "display_data"
    },
    {
     "data": {
      "text/plain": [
       "'Education Level'"
      ]
     },
     "metadata": {},
     "output_type": "display_data"
    },
    {
     "data": {
      "text/plain": [
       "[NaN, 'Undergraduate', 'High School', 'Postgraduate']\n",
       "Categories (3, object): ['High School' < 'Undergraduate' < 'Postgraduate']"
      ]
     },
     "metadata": {},
     "output_type": "display_data"
    },
    {
     "data": {
      "text/plain": [
       "'Income Level'"
      ]
     },
     "metadata": {},
     "output_type": "display_data"
    },
    {
     "data": {
      "text/plain": [
       "['Medium', 'Low', 'High']\n",
       "Categories (3, object): ['Low' < 'Medium' < 'High']"
      ]
     },
     "metadata": {},
     "output_type": "display_data"
    },
    {
     "data": {
      "text/plain": [
       "Index(['Physical Activity Level', 'Mental Health Status', 'Education Level',\n",
       "       'Income Level'],\n",
       "      dtype='object')"
      ]
     },
     "metadata": {},
     "output_type": "display_data"
    },
    {
     "data": {
      "text/plain": [
       "Index(['Gender', 'Smoking Status', 'Alcohol Consumption', 'Diet',\n",
       "       'Chronic Diseases', 'Medication Use', 'Family History',\n",
       "       'Sleep Patterns'],\n",
       "      dtype='object')"
      ]
     },
     "metadata": {},
     "output_type": "display_data"
    }
   ],
   "source": [
    "\n",
    "# define ordinal variables\n",
    "ordinal = ['Physical Activity Level', 'Income Level', 'Education Level', 'Mental Health Status']\n",
    "\n",
    "\n",
    "# convert moderate to medium in Physical Activity Level, keep the rest\n",
    "# this will allow me to use the same category as for income level\n",
    "train_data['Physical Activity Level'] = train_data['Physical Activity Level'].map({'Moderate':'Medium', 'High':'High', 'Low':'Low'})\n",
    "\n",
    "\n",
    "# define the categories for the ordinal variables\n",
    "level = pd.api.types.CategoricalDtype(categories=['Low', 'Medium', 'High'], ordered=True)\n",
    "education_level = pd.api.types.CategoricalDtype(categories=['High School', 'Undergraduate', 'Postgraduate'], ordered=True)\n",
    "mental_health_status = pd.api.types.CategoricalDtype(categories=['Poor', 'Fair', 'Good', 'Excellent'], ordered=True)\n",
    "\n",
    "# convert the ordinal variables to the new categories\n",
    "train_data['Physical Activity Level'] = train_data['Physical Activity Level'].astype(level)\n",
    "train_data['Income Level'] = train_data['Income Level'].astype(level)\n",
    "train_data['Education Level'] = train_data['Education Level'].astype(education_level)\n",
    "train_data['Mental Health Status'] = train_data['Mental Health Status'].astype(mental_health_status)\n",
    "\n",
    "# display the unique values of the categorical variables\n",
    "for col in train_data.select_dtypes('category').columns:\n",
    "    display(col)\n",
    "    display(train_data[col].unique())\n",
    "\n",
    "\n",
    "# print ordinal columns\n",
    "display(train_data.select_dtypes('category').columns)\n",
    "\n",
    "# print nominal columns\n",
    "display(train_data.select_dtypes('object').columns)\n"
   ]
  },
  {
   "cell_type": "code",
   "execution_count": 171,
   "metadata": {},
   "outputs": [],
   "source": [
    "# convert the newly created categorical variables to their numerical representation\n",
    "for col in train_data.select_dtypes('category').columns:\n",
    "    train_data[col] = train_data[col].cat.codes"
   ]
  },
  {
   "cell_type": "code",
   "execution_count": 172,
   "metadata": {},
   "outputs": [
    {
     "name": "stdout",
     "output_type": "stream",
     "text": [
      "<class 'pandas.core.frame.DataFrame'>\n",
      "RangeIndex: 3000 entries, 0 to 2999\n",
      "Empty DataFrame\n",
      "<class 'pandas.core.frame.DataFrame'>\n",
      "RangeIndex: 3000 entries, 0 to 2999\n",
      "Data columns (total 28 columns):\n",
      " #   Column                       Non-Null Count  Dtype  \n",
      "---  ------                       --------------  -----  \n",
      " 0   ID                           3000 non-null   int64  \n",
      " 1   Gender                       3000 non-null   object \n",
      " 2   Height (cm)                  3000 non-null   float64\n",
      " 3   Weight (kg)                  3000 non-null   float64\n",
      " 4   Cholesterol Level (mg/dL)    3000 non-null   float64\n",
      " 5   BMI                          3000 non-null   float64\n",
      " 6   Blood Glucose Level (mg/dL)  3000 non-null   float64\n",
      " 7   Bone Density (g/cm²)         3000 non-null   float64\n",
      " 8   Vision Sharpness             3000 non-null   float64\n",
      " 9   Hearing Ability (dB)         3000 non-null   float64\n",
      " 10  Physical Activity Level      3000 non-null   int8   \n",
      " 11  Smoking Status               3000 non-null   object \n",
      " 12  Alcohol Consumption          1799 non-null   object \n",
      " 13  Diet                         3000 non-null   object \n",
      " 14  Chronic Diseases             1701 non-null   object \n",
      " 15  Medication Use               1802 non-null   object \n",
      " 16  Family History               1549 non-null   object \n",
      " 17  Cognitive Function           3000 non-null   float64\n",
      " 18  Mental Health Status         3000 non-null   int8   \n",
      " 19  Sleep Patterns               3000 non-null   object \n",
      " 20  Stress Levels                3000 non-null   float64\n",
      " 21  Pollution Exposure           3000 non-null   float64\n",
      " 22  Sun Exposure                 3000 non-null   float64\n",
      " 23  Education Level              3000 non-null   int8   \n",
      " 24  Income Level                 3000 non-null   int8   \n",
      " 25  Age (years)                  3000 non-null   int64  \n",
      " 26  SystolicBP                   3000 non-null   int64  \n",
      " 27  DiastolicBP                  3000 non-null   int64  \n",
      "dtypes: float64(12), int64(4), int8(4), object(8)\n",
      "memory usage: 574.3+ KB\n"
     ]
    }
   ],
   "source": [
    "# final check of the data\n",
    "train_data.info()"
   ]
  },
  {
   "cell_type": "code",
   "execution_count": 173,
   "metadata": {},
   "outputs": [],
   "source": [
    "# convert nominal variables to dummies\n",
    "train_data = pd.get_dummies(train_data)\n"
   ]
  },
  {
   "cell_type": "code",
   "execution_count": 174,
   "metadata": {},
   "outputs": [
    {
     "data": {
      "text/html": [
       "<div>\n",
       "<style scoped>\n",
       "    .dataframe tbody tr th:only-of-type {\n",
       "        vertical-align: middle;\n",
       "    }\n",
       "\n",
       "    .dataframe tbody tr th {\n",
       "        vertical-align: top;\n",
       "    }\n",
       "\n",
       "    .dataframe thead th {\n",
       "        text-align: right;\n",
       "    }\n",
       "</style>\n",
       "<table border=\"1\" class=\"dataframe\">\n",
       "  <thead>\n",
       "    <tr style=\"text-align: right;\">\n",
       "      <th></th>\n",
       "      <th>ID</th>\n",
       "      <th>Height (cm)</th>\n",
       "      <th>Weight (kg)</th>\n",
       "      <th>Cholesterol Level (mg/dL)</th>\n",
       "      <th>BMI</th>\n",
       "      <th>Blood Glucose Level (mg/dL)</th>\n",
       "      <th>Bone Density (g/cm²)</th>\n",
       "      <th>Vision Sharpness</th>\n",
       "      <th>Hearing Ability (dB)</th>\n",
       "      <th>Physical Activity Level</th>\n",
       "      <th>...</th>\n",
       "      <th>Chronic Diseases_Heart Disease</th>\n",
       "      <th>Chronic Diseases_Hypertension</th>\n",
       "      <th>Medication Use_Occasional</th>\n",
       "      <th>Medication Use_Regular</th>\n",
       "      <th>Family History_Diabetes</th>\n",
       "      <th>Family History_Heart Disease</th>\n",
       "      <th>Family History_Hypertension</th>\n",
       "      <th>Sleep Patterns_Excessive</th>\n",
       "      <th>Sleep Patterns_Insomnia</th>\n",
       "      <th>Sleep Patterns_Normal</th>\n",
       "    </tr>\n",
       "  </thead>\n",
       "  <tbody>\n",
       "    <tr>\n",
       "      <th>0</th>\n",
       "      <td>1</td>\n",
       "      <td>171.148359</td>\n",
       "      <td>86.185197</td>\n",
       "      <td>259.465814</td>\n",
       "      <td>29.423017</td>\n",
       "      <td>157.652848</td>\n",
       "      <td>0.132868</td>\n",
       "      <td>0.200000</td>\n",
       "      <td>58.786198</td>\n",
       "      <td>1</td>\n",
       "      <td>...</td>\n",
       "      <td>False</td>\n",
       "      <td>False</td>\n",
       "      <td>False</td>\n",
       "      <td>False</td>\n",
       "      <td>False</td>\n",
       "      <td>False</td>\n",
       "      <td>False</td>\n",
       "      <td>False</td>\n",
       "      <td>True</td>\n",
       "      <td>False</td>\n",
       "    </tr>\n",
       "    <tr>\n",
       "      <th>1</th>\n",
       "      <td>2</td>\n",
       "      <td>172.946206</td>\n",
       "      <td>79.641937</td>\n",
       "      <td>263.630292</td>\n",
       "      <td>26.626847</td>\n",
       "      <td>118.507805</td>\n",
       "      <td>0.629534</td>\n",
       "      <td>0.267312</td>\n",
       "      <td>54.635270</td>\n",
       "      <td>0</td>\n",
       "      <td>...</td>\n",
       "      <td>False</td>\n",
       "      <td>True</td>\n",
       "      <td>False</td>\n",
       "      <td>False</td>\n",
       "      <td>False</td>\n",
       "      <td>True</td>\n",
       "      <td>False</td>\n",
       "      <td>False</td>\n",
       "      <td>False</td>\n",
       "      <td>True</td>\n",
       "    </tr>\n",
       "    <tr>\n",
       "      <th>2</th>\n",
       "      <td>3</td>\n",
       "      <td>155.945488</td>\n",
       "      <td>49.167058</td>\n",
       "      <td>207.846206</td>\n",
       "      <td>20.217553</td>\n",
       "      <td>143.587550</td>\n",
       "      <td>0.473487</td>\n",
       "      <td>0.248667</td>\n",
       "      <td>54.564632</td>\n",
       "      <td>1</td>\n",
       "      <td>...</td>\n",
       "      <td>False</td>\n",
       "      <td>True</td>\n",
       "      <td>False</td>\n",
       "      <td>True</td>\n",
       "      <td>False</td>\n",
       "      <td>False</td>\n",
       "      <td>True</td>\n",
       "      <td>False</td>\n",
       "      <td>True</td>\n",
       "      <td>False</td>\n",
       "    </tr>\n",
       "    <tr>\n",
       "      <th>3</th>\n",
       "      <td>4</td>\n",
       "      <td>169.078298</td>\n",
       "      <td>56.017921</td>\n",
       "      <td>253.283779</td>\n",
       "      <td>19.595270</td>\n",
       "      <td>137.448581</td>\n",
       "      <td>1.184315</td>\n",
       "      <td>0.513818</td>\n",
       "      <td>79.722963</td>\n",
       "      <td>1</td>\n",
       "      <td>...</td>\n",
       "      <td>False</td>\n",
       "      <td>False</td>\n",
       "      <td>True</td>\n",
       "      <td>False</td>\n",
       "      <td>False</td>\n",
       "      <td>False</td>\n",
       "      <td>True</td>\n",
       "      <td>False</td>\n",
       "      <td>True</td>\n",
       "      <td>False</td>\n",
       "    </tr>\n",
       "    <tr>\n",
       "      <th>4</th>\n",
       "      <td>5</td>\n",
       "      <td>163.758355</td>\n",
       "      <td>73.966304</td>\n",
       "      <td>236.119899</td>\n",
       "      <td>27.582078</td>\n",
       "      <td>145.328695</td>\n",
       "      <td>0.434562</td>\n",
       "      <td>0.306864</td>\n",
       "      <td>52.479469</td>\n",
       "      <td>0</td>\n",
       "      <td>...</td>\n",
       "      <td>False</td>\n",
       "      <td>False</td>\n",
       "      <td>False</td>\n",
       "      <td>False</td>\n",
       "      <td>False</td>\n",
       "      <td>False</td>\n",
       "      <td>False</td>\n",
       "      <td>False</td>\n",
       "      <td>False</td>\n",
       "      <td>True</td>\n",
       "    </tr>\n",
       "    <tr>\n",
       "      <th>...</th>\n",
       "      <td>...</td>\n",
       "      <td>...</td>\n",
       "      <td>...</td>\n",
       "      <td>...</td>\n",
       "      <td>...</td>\n",
       "      <td>...</td>\n",
       "      <td>...</td>\n",
       "      <td>...</td>\n",
       "      <td>...</td>\n",
       "      <td>...</td>\n",
       "      <td>...</td>\n",
       "      <td>...</td>\n",
       "      <td>...</td>\n",
       "      <td>...</td>\n",
       "      <td>...</td>\n",
       "      <td>...</td>\n",
       "      <td>...</td>\n",
       "      <td>...</td>\n",
       "      <td>...</td>\n",
       "      <td>...</td>\n",
       "      <td>...</td>\n",
       "    </tr>\n",
       "    <tr>\n",
       "      <th>2995</th>\n",
       "      <td>2996</td>\n",
       "      <td>161.632502</td>\n",
       "      <td>88.323405</td>\n",
       "      <td>204.175510</td>\n",
       "      <td>33.807917</td>\n",
       "      <td>112.075747</td>\n",
       "      <td>1.583006</td>\n",
       "      <td>0.665907</td>\n",
       "      <td>27.997736</td>\n",
       "      <td>1</td>\n",
       "      <td>...</td>\n",
       "      <td>False</td>\n",
       "      <td>True</td>\n",
       "      <td>False</td>\n",
       "      <td>True</td>\n",
       "      <td>True</td>\n",
       "      <td>False</td>\n",
       "      <td>False</td>\n",
       "      <td>False</td>\n",
       "      <td>False</td>\n",
       "      <td>True</td>\n",
       "    </tr>\n",
       "    <tr>\n",
       "      <th>2996</th>\n",
       "      <td>2997</td>\n",
       "      <td>163.443512</td>\n",
       "      <td>93.217007</td>\n",
       "      <td>197.384424</td>\n",
       "      <td>34.894725</td>\n",
       "      <td>101.177692</td>\n",
       "      <td>1.785129</td>\n",
       "      <td>0.720304</td>\n",
       "      <td>32.866623</td>\n",
       "      <td>0</td>\n",
       "      <td>...</td>\n",
       "      <td>False</td>\n",
       "      <td>False</td>\n",
       "      <td>True</td>\n",
       "      <td>False</td>\n",
       "      <td>False</td>\n",
       "      <td>True</td>\n",
       "      <td>False</td>\n",
       "      <td>False</td>\n",
       "      <td>False</td>\n",
       "      <td>True</td>\n",
       "    </tr>\n",
       "    <tr>\n",
       "      <th>2997</th>\n",
       "      <td>2998</td>\n",
       "      <td>177.857644</td>\n",
       "      <td>86.258847</td>\n",
       "      <td>238.641542</td>\n",
       "      <td>27.268332</td>\n",
       "      <td>110.548146</td>\n",
       "      <td>0.366012</td>\n",
       "      <td>0.200000</td>\n",
       "      <td>39.756270</td>\n",
       "      <td>1</td>\n",
       "      <td>...</td>\n",
       "      <td>False</td>\n",
       "      <td>False</td>\n",
       "      <td>False</td>\n",
       "      <td>False</td>\n",
       "      <td>False</td>\n",
       "      <td>False</td>\n",
       "      <td>False</td>\n",
       "      <td>False</td>\n",
       "      <td>False</td>\n",
       "      <td>True</td>\n",
       "    </tr>\n",
       "    <tr>\n",
       "      <th>2998</th>\n",
       "      <td>2999</td>\n",
       "      <td>162.287164</td>\n",
       "      <td>41.371018</td>\n",
       "      <td>198.244328</td>\n",
       "      <td>15.708252</td>\n",
       "      <td>123.704379</td>\n",
       "      <td>1.452963</td>\n",
       "      <td>0.648158</td>\n",
       "      <td>43.338594</td>\n",
       "      <td>1</td>\n",
       "      <td>...</td>\n",
       "      <td>False</td>\n",
       "      <td>False</td>\n",
       "      <td>False</td>\n",
       "      <td>True</td>\n",
       "      <td>False</td>\n",
       "      <td>False</td>\n",
       "      <td>True</td>\n",
       "      <td>False</td>\n",
       "      <td>True</td>\n",
       "      <td>False</td>\n",
       "    </tr>\n",
       "    <tr>\n",
       "      <th>2999</th>\n",
       "      <td>3000</td>\n",
       "      <td>175.341710</td>\n",
       "      <td>78.718038</td>\n",
       "      <td>279.118184</td>\n",
       "      <td>25.603762</td>\n",
       "      <td>156.577316</td>\n",
       "      <td>0.704319</td>\n",
       "      <td>0.578625</td>\n",
       "      <td>43.926230</td>\n",
       "      <td>2</td>\n",
       "      <td>...</td>\n",
       "      <td>False</td>\n",
       "      <td>True</td>\n",
       "      <td>False</td>\n",
       "      <td>False</td>\n",
       "      <td>False</td>\n",
       "      <td>False</td>\n",
       "      <td>True</td>\n",
       "      <td>False</td>\n",
       "      <td>True</td>\n",
       "      <td>False</td>\n",
       "    </tr>\n",
       "  </tbody>\n",
       "</table>\n",
       "<p>3000 rows × 42 columns</p>\n",
       "</div>"
      ],
      "text/plain": [
       "        ID  Height (cm)  Weight (kg)  Cholesterol Level (mg/dL)        BMI  \\\n",
       "0        1   171.148359    86.185197                 259.465814  29.423017   \n",
       "1        2   172.946206    79.641937                 263.630292  26.626847   \n",
       "2        3   155.945488    49.167058                 207.846206  20.217553   \n",
       "3        4   169.078298    56.017921                 253.283779  19.595270   \n",
       "4        5   163.758355    73.966304                 236.119899  27.582078   \n",
       "...    ...          ...          ...                        ...        ...   \n",
       "2995  2996   161.632502    88.323405                 204.175510  33.807917   \n",
       "2996  2997   163.443512    93.217007                 197.384424  34.894725   \n",
       "2997  2998   177.857644    86.258847                 238.641542  27.268332   \n",
       "2998  2999   162.287164    41.371018                 198.244328  15.708252   \n",
       "2999  3000   175.341710    78.718038                 279.118184  25.603762   \n",
       "\n",
       "      Blood Glucose Level (mg/dL)  Bone Density (g/cm²)  Vision Sharpness  \\\n",
       "0                      157.652848              0.132868          0.200000   \n",
       "1                      118.507805              0.629534          0.267312   \n",
       "2                      143.587550              0.473487          0.248667   \n",
       "3                      137.448581              1.184315          0.513818   \n",
       "4                      145.328695              0.434562          0.306864   \n",
       "...                           ...                   ...               ...   \n",
       "2995                   112.075747              1.583006          0.665907   \n",
       "2996                   101.177692              1.785129          0.720304   \n",
       "2997                   110.548146              0.366012          0.200000   \n",
       "2998                   123.704379              1.452963          0.648158   \n",
       "2999                   156.577316              0.704319          0.578625   \n",
       "\n",
       "      Hearing Ability (dB)  Physical Activity Level  ...  \\\n",
       "0                58.786198                        1  ...   \n",
       "1                54.635270                        0  ...   \n",
       "2                54.564632                        1  ...   \n",
       "3                79.722963                        1  ...   \n",
       "4                52.479469                        0  ...   \n",
       "...                    ...                      ...  ...   \n",
       "2995             27.997736                        1  ...   \n",
       "2996             32.866623                        0  ...   \n",
       "2997             39.756270                        1  ...   \n",
       "2998             43.338594                        1  ...   \n",
       "2999             43.926230                        2  ...   \n",
       "\n",
       "      Chronic Diseases_Heart Disease  Chronic Diseases_Hypertension  \\\n",
       "0                              False                          False   \n",
       "1                              False                           True   \n",
       "2                              False                           True   \n",
       "3                              False                          False   \n",
       "4                              False                          False   \n",
       "...                              ...                            ...   \n",
       "2995                           False                           True   \n",
       "2996                           False                          False   \n",
       "2997                           False                          False   \n",
       "2998                           False                          False   \n",
       "2999                           False                           True   \n",
       "\n",
       "      Medication Use_Occasional  Medication Use_Regular  \\\n",
       "0                         False                   False   \n",
       "1                         False                   False   \n",
       "2                         False                    True   \n",
       "3                          True                   False   \n",
       "4                         False                   False   \n",
       "...                         ...                     ...   \n",
       "2995                      False                    True   \n",
       "2996                       True                   False   \n",
       "2997                      False                   False   \n",
       "2998                      False                    True   \n",
       "2999                      False                   False   \n",
       "\n",
       "      Family History_Diabetes  Family History_Heart Disease  \\\n",
       "0                       False                         False   \n",
       "1                       False                          True   \n",
       "2                       False                         False   \n",
       "3                       False                         False   \n",
       "4                       False                         False   \n",
       "...                       ...                           ...   \n",
       "2995                     True                         False   \n",
       "2996                    False                          True   \n",
       "2997                    False                         False   \n",
       "2998                    False                         False   \n",
       "2999                    False                         False   \n",
       "\n",
       "      Family History_Hypertension  Sleep Patterns_Excessive  \\\n",
       "0                           False                     False   \n",
       "1                           False                     False   \n",
       "2                            True                     False   \n",
       "3                            True                     False   \n",
       "4                           False                     False   \n",
       "...                           ...                       ...   \n",
       "2995                        False                     False   \n",
       "2996                        False                     False   \n",
       "2997                        False                     False   \n",
       "2998                         True                     False   \n",
       "2999                         True                     False   \n",
       "\n",
       "      Sleep Patterns_Insomnia  Sleep Patterns_Normal  \n",
       "0                        True                  False  \n",
       "1                       False                   True  \n",
       "2                        True                  False  \n",
       "3                        True                  False  \n",
       "4                       False                   True  \n",
       "...                       ...                    ...  \n",
       "2995                    False                   True  \n",
       "2996                    False                   True  \n",
       "2997                    False                   True  \n",
       "2998                     True                  False  \n",
       "2999                     True                  False  \n",
       "\n",
       "[3000 rows x 42 columns]"
      ]
     },
     "metadata": {},
     "output_type": "display_data"
    }
   ],
   "source": [
    "# handle the missing values - i will fill them with -1\n",
    "train_data.fillna(-1, inplace=True)\n",
    "display(train_data)"
   ]
  },
  {
   "cell_type": "markdown",
   "metadata": {},
   "source": [
    "## data processing"
   ]
  },
  {
   "cell_type": "code",
   "execution_count": 176,
   "metadata": {},
   "outputs": [],
   "source": [
    "# import basic libraries\n",
    "from sklearn.model_selection import train_test_split\n",
    "import matplotlib.pyplot as plt"
   ]
  },
  {
   "cell_type": "code",
   "execution_count": 177,
   "metadata": {},
   "outputs": [],
   "source": [
    "pred_column = 'Age (years)'\n",
    "\n",
    "# split the data into train and rest\n",
    "Xtrain, Xrest, ytrain, yrest = train_test_split(\n",
    "    train_data.drop(columns=[pred_column]), train_data[pred_column], test_size=0.4, random_state=random_state\n",
    ")\n",
    "\n",
    "# split the rest into test and validation\n",
    "Xtest, Xval, ytest, yval = train_test_split(\n",
    "    Xrest, yrest, test_size=0.6, random_state=random_state\n",
    ")\n"
   ]
  },
  {
   "cell_type": "markdown",
   "metadata": {},
   "source": [
    "## train a baseline model \n",
    "- i will start with a simple decision tree regressor to get a baseline of the performance and gauge the complexity of the problem"
   ]
  },
  {
   "cell_type": "code",
   "execution_count": 411,
   "metadata": {},
   "outputs": [
    {
     "name": "stdout",
     "output_type": "stream",
     "text": [
      "Best depth: 6\n",
      "Best RMSE: 6.226445128989748\n"
     ]
    },
    {
     "data": {
      "image/png": "[encoded data removed]",
      "text/plain": [
       "<Figure size 640x480 with 1 Axes>"
      ]
     },
     "metadata": {},
     "output_type": "display_data"
    }
   ],
   "source": [
    "from sklearn.tree import DecisionTreeRegressor\n",
    "from sklearn.metrics import root_mean_squared_error\n",
    "\n",
    "depths = range(1,20)\n",
    "\n",
    "val_metric = []\n",
    "for depth in depths:\n",
    "    model = DecisionTreeRegressor(max_depth = depth, random_state = random_state).fit(Xtrain, ytrain)\n",
    "    val_metric.append(root_mean_squared_error(yval, model.predict(Xval)))\n",
    "\n",
    "print(f\"Best depth: {np.argmin(val_metric)+1}\")\n",
    "print(f\"Best RMSE: {val_metric[np.argmin(val_metric)]}\")\n",
    "\n",
    "# plot\n",
    "plt.plot(depths, val_metric)\n",
    "plt.xlabel('Depth')\n",
    "plt.ylabel('RMSE')\n",
    "plt.title('RMSE vs Depth')\n",
    "plt.show()\n"
   ]
  },
  {
   "cell_type": "markdown",
   "metadata": {},
   "source": [
    "even the simplest model seems to perform quite well - it is able to predict to age of a person with an error of 6.22 years RMSE on the validation set"
   ]
  },
  {
   "cell_type": "markdown",
   "metadata": {},
   "source": [
    "## XGBoost\n",
    "i will try to improve the results using XGBoost, which is commonoly used for tabular data\n",
    "\n"
   ]
  },
  {
   "cell_type": "code",
   "execution_count": 180,
   "metadata": {},
   "outputs": [
    {
     "name": "stdout",
     "output_type": "stream",
     "text": [
      "[0]\tvalidation_0-rmse:20.48304\n",
      "[100]\tvalidation_0-rmse:9.36461\n",
      "[200]\tvalidation_0-rmse:6.14156\n",
      "[300]\tvalidation_0-rmse:5.43617\n",
      "[400]\tvalidation_0-rmse:5.29362\n",
      "[500]\tvalidation_0-rmse:5.26417\n",
      "[600]\tvalidation_0-rmse:5.25922\n",
      "[700]\tvalidation_0-rmse:5.26011\n",
      "[731]\tvalidation_0-rmse:5.26055\n",
      "MSE on validation set: 27.65423119409393\n",
      "RMSE on val: 5.258729047411925\n",
      "MSE on train set: 0.562245008279519\n",
      "R2 of the model: 0.935077965259552\n"
     ]
    },
    {
     "data": {
      "image/png": "[encoded data removed]",
      "text/plain": [
       "<Figure size 640x480 with 1 Axes>"
      ]
     },
     "metadata": {},
     "output_type": "display_data"
    }
   ],
   "source": [
    "# train a xgboost model to predict age with regularization parameters\n",
    "model = XGBRegressor(\n",
    "    max_depth=10,  # Reduce tree depth (default is 6)\n",
    "    learning_rate=0.01,  # Lower learning rate (default is 0.3)\n",
    "    n_estimators=1000,  # Increase number of trees\n",
    "    min_child_weight=5,  # Increase minimum sum of instance weight in child\n",
    "    subsample=0.8,  # Use 80% of data per tree\n",
    "    colsample_bytree=0.8,  # Use 80% of features per tree\n",
    "    reg_alpha=0.1,  # L1 regularization\n",
    "    reg_lambda=1.0,  # L2 regularization\n",
    "    early_stopping_rounds=100 # Stop if validation score doesn't improve\n",
    ")\n",
    "\n",
    "# Use validation set for early stopping\n",
    "model.fit(Xtrain,\n",
    "          ytrain,\n",
    "          eval_set=[(Xval, yval)],\n",
    "          verbose=100)\n",
    "\n",
    "\n",
    "\n",
    "yval_pred = model.predict(Xval)\n",
    "\n",
    "# print the MSE\n",
    "msa_val = mean_squared_error(yval, yval_pred)\n",
    "print(f\"MSE on validation set: {msa_val}\")\n",
    "print(\"RMSE on val:\", msa_val**0.5)\n",
    "\n",
    "# predict on train data\n",
    "ytrain_pred = model.predict(Xtrain)\n",
    "\n",
    "# print the MSE\n",
    "print(f\"MSE on train set: {mean_squared_error(ytrain, ytrain_pred)}\")\n",
    "# plot the predicted vs actual\n",
    "plt.scatter(ytrain, ytrain_pred)\n",
    "plt.xlabel('Actual Age')\n",
    "plt.ylabel('Predicted Age')\n",
    "plt.title('Actual vs Predicted Age')\n",
    "\n",
    "plt.scatter(yval, yval_pred)\n",
    "plt.xlabel('Actual Age')\n",
    "plt.ylabel('Predicted Age')\n",
    "plt.title('Actual vs Predicted Age')\n",
    "\n",
    "\n",
    "# R2 of the model\n",
    "print(f\"R2 of the model: {model.score(Xval, yval)}\")\n"
   ]
  },
  {
   "cell_type": "markdown",
   "metadata": {},
   "source": [
    "- this model - ensemble model comprised of decision trees - boosted random forrest - seems to perform better than the simple decision tree\n",
    "    - it is able to predict to age of a person with an error of 5.26 years RMSE on the validation set\n",
    "- there is a huge difference in performance between validation and train set - this is a sign of overfitting, which is expected when using decision tree models\n",
    "- to understand if there are problems at some specific age bins, i will plot the residuals across the age range"
   ]
  },
  {
   "cell_type": "code",
   "execution_count": 185,
   "metadata": {},
   "outputs": [
    {
     "data": {
      "image/png": "[encoded data removed]",
      "text/plain": [
       "<Figure size 640x480 with 1 Axes>"
      ]
     },
     "metadata": {},
     "output_type": "display_data"
    },
    {
     "name": "stdout",
     "output_type": "stream",
     "text": [
      "Median residual: -0.4153156280517578\n"
     ]
    },
    {
     "data": {
      "image/png": "[encoded data removed]",
      "text/plain": [
       "<Figure size 640x480 with 1 Axes>"
      ]
     },
     "metadata": {},
     "output_type": "display_data"
    }
   ],
   "source": [
    "# performance in different age bins \n",
    "\n",
    "# plot the residuals\n",
    "plt.scatter(yval, yval - yval_pred)\n",
    "plt.xlabel('Actual Age')\n",
    "plt.ylabel('Residuals')\n",
    "plt.title('Residuals vs Actual Age')\n",
    "plt.show()\n",
    "\n",
    "# plot average residuals in bins of age\n",
    "plt.hist(yval - yval_pred, bins=100)\n",
    "plt.xlabel('Residuals')\n",
    "plt.ylabel('Frequency')\n",
    "plt.title('Residuals Distribution')\n",
    "\n",
    "# median residual \n",
    "print(f\"Median residual: {np.median(yval - yval_pred)}\")"
   ]
  },
  {
   "cell_type": "markdown",
   "metadata": {},
   "source": [
    "- at least visually, there doesn't seem to be a problem with the model performance across the age range - no apparent trend in variance of residuals in any specific age bin\n",
    "- i have also plotted the histogram of the residuals - it seems to be centered around 0 - which is good - suggesting the model does not bias towards older or younger people(median -0.42)\n",
    "- seems like the residuals are normally distributed - meaning it any bias is not systematic but rather random and may be caused by random noise and the ~5 years precision of the data may not be improved upon unless more data is available"
   ]
  },
  {
   "cell_type": "markdown",
   "metadata": {},
   "source": [
    "## cross validation\n",
    "- i will try to improve the results using cross validation to find the best parameters for the 2 types of models"
   ]
  },
  {
   "cell_type": "markdown",
   "metadata": {},
   "source": [
    "### decision tree\n",
    "i will start with the decision tree regressor to see if it can be improved\n",
    "and later apply the same approach to ensemble models\n",
    "1. cross validation\n",
    "2. grid search"
   ]
  },
  {
   "cell_type": "code",
   "execution_count": 233,
   "metadata": {},
   "outputs": [
    {
     "name": "stdout",
     "output_type": "stream",
     "text": [
      "Best depth: 5\n",
      "Best RMSE: 6.296298522578502\n"
     ]
    },
    {
     "data": {
      "image/png": "[encoded data removed]",
      "text/plain": [
       "<Figure size 640x480 with 1 Axes>"
      ]
     },
     "metadata": {},
     "output_type": "display_data"
    }
   ],
   "source": [
    "# cross validation on train data + val data\n",
    "from sklearn.model_selection import cross_val_score\n",
    "\n",
    "\n",
    "# merge train and val data back together such that cross validation can be used\n",
    "X_train_val = pd.concat([Xtrain, Xval])\n",
    "y_train_val = pd.concat([ytrain, yval])\n",
    "\n",
    "\n",
    "\n",
    "# optimize the depth of the decision tree\n",
    "depths = range(1,20)\n",
    "val_metric = []\n",
    "for depth in depths:\n",
    "    model = DecisionTreeRegressor(max_depth=depth, random_state=random_state, criterion='friedman_mse')\n",
    "    scores = cross_val_score(model, X_train_val, y_train_val, cv=5, scoring='neg_root_mean_squared_error')\n",
    "    val_metric.append(-scores.mean())  # Negate since cross_val_score returns negative RMSE\n",
    "\n",
    "# choose the best model \n",
    "best = np.argmin(val_metric)\n",
    "print(f\"Best depth: {best+1}\")\n",
    "\n",
    "# best RMSE \n",
    "print(f\"Best RMSE: {val_metric[best]}\")\n",
    "\n",
    "\n",
    "# plot\n",
    "plt.plot(depths, val_metric)\n",
    "plt.xlabel('Depth')\n",
    "plt.ylabel('RMSE')\n",
    "plt.title('RMSE vs Depth')\n",
    "plt.show()\n"
   ]
  },
  {
   "cell_type": "markdown",
   "metadata": {},
   "source": [
    "## grid search + cross validation"
   ]
  },
  {
   "cell_type": "code",
   "execution_count": 207,
   "metadata": {},
   "outputs": [
    {
     "name": "stdout",
     "output_type": "stream",
     "text": [
      "Best parameters: {'max_depth': 7, 'min_samples_leaf': 16, 'min_samples_split': 2}\n",
      "Best RMSE: 6.18021799473388\n"
     ]
    }
   ],
   "source": [
    "\n",
    "from sklearn.model_selection import GridSearchCV\n",
    "\n",
    "# Define parameter grid\n",
    "param_grid = {\n",
    "    'max_depth': [3, 5, 7, 10],\n",
    "    'min_samples_split': [2, 5, 10, 20],\n",
    "    'min_samples_leaf': [1, 2, 4, 8, 16],\n",
    "}\n",
    "\n",
    "# Create decision tree\n",
    "dt = DecisionTreeRegressor(random_state=random_state)\n",
    "\n",
    "# Perform grid search\n",
    "grid_search = GridSearchCV(\n",
    "    estimator=dt,\n",
    "    param_grid=param_grid,\n",
    "    cv=10,\n",
    "    scoring='neg_root_mean_squared_error',\n",
    "    n_jobs=-1\n",
    ")\n",
    "\n",
    "# Fit the model\n",
    "grid_search.fit(X_train_val, y_train_val)\n",
    "\n",
    "# Print best parameters\n",
    "print(\"Best parameters:\", grid_search.best_params_)\n",
    "print(\"Best RMSE:\", -grid_search.best_score_)"
   ]
  },
  {
   "cell_type": "markdown",
   "metadata": {},
   "source": [
    "it appears that i was able to achieve slightly better parameters with grid search and optimize the decision tree slightly further"
   ]
  },
  {
   "cell_type": "markdown",
   "metadata": {},
   "source": [
    "## random forrest\n",
    "- instead of XGBoost, i will use a simpler random forrest regressor to see if it can be improved\n"
   ]
  },
  {
   "cell_type": "code",
   "execution_count": 235,
   "metadata": {},
   "outputs": [
    {
     "name": "stdout",
     "output_type": "stream",
     "text": [
      "Fitting 5 folds for each of 16 candidates, totalling 80 fits\n"
     ]
    },
    {
     "name": "stderr",
     "output_type": "stream",
     "text": [
      "6429.57s - pydevd: Sending message related to process being replaced timed-out after 5 seconds\n",
      "6429.58s - pydevd: Sending message related to process being replaced timed-out after 5 seconds\n",
      "6429.59s - pydevd: Sending message related to process being replaced timed-out after 5 seconds\n",
      "6429.59s - pydevd: Sending message related to process being replaced timed-out after 5 seconds\n",
      "6429.60s - pydevd: Sending message related to process being replaced timed-out after 5 seconds\n",
      "6429.61s - pydevd: Sending message related to process being replaced timed-out after 5 seconds\n",
      "6429.61s - pydevd: Sending message related to process being replaced timed-out after 5 seconds\n",
      "6429.62s - pydevd: Sending message related to process being replaced timed-out after 5 seconds\n"
     ]
    },
    {
     "name": "stdout",
     "output_type": "stream",
     "text": [
      "Best parameters: {'max_depth': 10, 'n_estimators': 1000}\n",
      "Best RMSE: 5.38852903323154\n"
     ]
    }
   ],
   "source": [
    "from sklearn.ensemble import RandomForestRegressor\n",
    "\n",
    "model = RandomForestRegressor(random_state=random_state)\n",
    "model.fit(X_train_val, y_train_val)\n",
    "\n",
    "# Grid search for random forrest\n",
    "param_grid = {\n",
    "    'n_estimators': [100, 200, 500, 1000],\n",
    "    'max_depth': [3, 5, 7, 10],\n",
    "    \n",
    "}\n",
    "\n",
    "grid_search = GridSearchCV(\n",
    "    estimator=model,\n",
    "    param_grid=param_grid,\n",
    "    cv=5,\n",
    "    scoring='neg_root_mean_squared_error',\n",
    "    n_jobs=-1,\n",
    "    verbose=2\n",
    ")\n",
    "\n",
    "grid_search.fit(X_train_val, y_train_val)\n",
    "\n",
    "# Print best parameters\n",
    "print(\"Best parameters:\", grid_search.best_params_)\n",
    "print(\"Best RMSE:\", -grid_search.best_score_)\n"
   ]
  },
  {
   "cell_type": "markdown",
   "metadata": {},
   "source": [
    "i was able to achieve comparable results to the XGBoost model after parameter optimization of the random forrest regressor\n",
    "- this model should help reduce variance of the prediction - which it did - the RMSE is now 5.39(when compared to 6+ on decision tree)\n",
    "\n",
    "- to understand how to model works - i plotted the feature importances\n",
    "    - the best predictor of age seems to be the bone density and vision sharpness, which is expected, but i would also expect BMI to be a good predictor - as people tend to get more obese with age, but it doesn't seem to be the case"
   ]
  },
  {
   "cell_type": "code",
   "execution_count": 229,
   "metadata": {},
   "outputs": [
    {
     "data": {
      "application/vnd.plotly.v1+json": {
       "config": {
        "plotlyServerURL": "https://plot.ly"
       },
       "data": [
        {
         "alignmentgroup": "True",
         "hovertemplate": "x=%{x}<br>y=%{y}<extra></extra>",
         "legendgroup": "",
         "marker": {
          "color": "#636efa",
          "pattern": {
           "shape": ""
          }
         },
         "name": "",
         "offsetgroup": "",
         "orientation": "v",
         "showlegend": false,
         "textposition": "auto",
         "type": "bar",
         "x": [
          "ID",
          "Height (cm)",
          "Weight (kg)",
          "Cholesterol Level (mg/dL)",
          "BMI",
          "Blood Glucose Level (mg/dL)",
          "Bone Density (g/cm²)",
          "Vision Sharpness",
          "Hearing Ability (dB)",
          "Physical Activity Level",
          "Cognitive Function",
          "Mental Health Status",
          "Stress Levels",
          "Pollution Exposure",
          "Sun Exposure",
          "Education Level",
          "Income Level",
          "SystolicBP",
          "DiastolicBP",
          "Gender_Female",
          "Gender_Male",
          "Smoking Status_Current",
          "Smoking Status_Former",
          "Smoking Status_Never",
          "Alcohol Consumption_Frequent",
          "Alcohol Consumption_Occasional",
          "Diet_Balanced",
          "Diet_High-fat",
          "Diet_Low-carb",
          "Diet_Vegetarian",
          "Chronic Diseases_Diabetes",
          "Chronic Diseases_Heart Disease",
          "Chronic Diseases_Hypertension",
          "Medication Use_Occasional",
          "Medication Use_Regular",
          "Family History_Diabetes",
          "Family History_Heart Disease",
          "Family History_Hypertension",
          "Sleep Patterns_Excessive",
          "Sleep Patterns_Insomnia",
          "Sleep Patterns_Normal"
         ],
         "xaxis": "x",
         "y": [
          0.0005464454391877404,
          0.0030904443969411413,
          0,
          0.017094189802482677,
          0,
          0.01055024679573728,
          0.6204716725934891,
          0.2652722708523011,
          0.032514394726641485,
          0,
          0.004242951611641347,
          0,
          0.001887589849182547,
          0.001503352126568945,
          0.0006924431533731631,
          0.00001719396339969856,
          0,
          0.01953493930804124,
          0.02023089454831417,
          0,
          0,
          0,
          0,
          0.0008016489976269429,
          0.001549321835071097,
          0,
          0,
          0,
          0,
          0,
          0,
          0,
          0,
          0,
          0,
          0,
          0,
          0,
          0,
          0,
          0
         ],
         "yaxis": "y"
        }
       ],
       "layout": {
        "barmode": "relative",
        "legend": {
         "tracegroupgap": 0
        },
        "margin": {
         "t": 60
        },
        "template": {
         "data": {
          "bar": [
           {
            "error_x": {
             "color": "#2a3f5f"
            },
            "error_y": {
             "color": "#2a3f5f"
            },
            "marker": {
             "line": {
              "color": "#E5ECF6",
              "width": 0.5
             },
             "pattern": {
              "fillmode": "overlay",
              "size": 10,
              "solidity": 0.2
             }
            },
            "type": "bar"
           }
          ],
          "barpolar": [
           {
            "marker": {
             "line": {
              "color": "#E5ECF6",
              "width": 0.5
             },
             "pattern": {
              "fillmode": "overlay",
              "size": 10,
              "solidity": 0.2
             }
            },
            "type": "barpolar"
           }
          ],
          "carpet": [
           {
            "aaxis": {
             "endlinecolor": "#2a3f5f",
             "gridcolor": "white",
             "linecolor": "white",
             "minorgridcolor": "white",
             "startlinecolor": "#2a3f5f"
            },
            "baxis": {
             "endlinecolor": "#2a3f5f",
             "gridcolor": "white",
             "linecolor": "white",
             "minorgridcolor": "white",
             "startlinecolor": "#2a3f5f"
            },
            "type": "carpet"
           }
          ],
          "choropleth": [
           {
            "colorbar": {
             "outlinewidth": 0,
             "ticks": ""
            },
            "type": "choropleth"
           }
          ],
          "contour": [
           {
            "colorbar": {
             "outlinewidth": 0,
             "ticks": ""
            },
            "colorscale": [
             [
              0,
              "#0d0887"
             ],
             [
              0.1111111111111111,
              "#46039f"
             ],
             [
              0.2222222222222222,
              "#7201a8"
             ],
             [
              0.3333333333333333,
              "#9c179e"
             ],
             [
              0.4444444444444444,
              "#bd3786"
             ],
             [
              0.5555555555555556,
              "#d8576b"
             ],
             [
              0.6666666666666666,
              "#ed7953"
             ],
             [
              0.7777777777777778,
              "#fb9f3a"
             ],
             [
              0.8888888888888888,
              "#fdca26"
             ],
             [
              1,
              "#f0f921"
             ]
            ],
            "type": "contour"
           }
          ],
          "contourcarpet": [
           {
            "colorbar": {
             "outlinewidth": 0,
             "ticks": ""
            },
            "type": "contourcarpet"
           }
          ],
          "heatmap": [
           {
            "colorbar": {
             "outlinewidth": 0,
             "ticks": ""
            },
            "colorscale": [
             [
              0,
              "#0d0887"
             ],
             [
              0.1111111111111111,
              "#46039f"
             ],
             [
              0.2222222222222222,
              "#7201a8"
             ],
             [
              0.3333333333333333,
              "#9c179e"
             ],
             [
              0.4444444444444444,
              "#bd3786"
             ],
             [
              0.5555555555555556,
              "#d8576b"
             ],
             [
              0.6666666666666666,
              "#ed7953"
             ],
             [
              0.7777777777777778,
              "#fb9f3a"
             ],
             [
              0.8888888888888888,
              "#fdca26"
             ],
             [
              1,
              "#f0f921"
             ]
            ],
            "type": "heatmap"
           }
          ],
          "heatmapgl": [
           {
            "colorbar": {
             "outlinewidth": 0,
             "ticks": ""
            },
            "colorscale": [
             [
              0,
              "#0d0887"
             ],
             [
              0.1111111111111111,
              "#46039f"
             ],
             [
              0.2222222222222222,
              "#7201a8"
             ],
             [
              0.3333333333333333,
              "#9c179e"
             ],
             [
              0.4444444444444444,
              "#bd3786"
             ],
             [
              0.5555555555555556,
              "#d8576b"
             ],
             [
              0.6666666666666666,
              "#ed7953"
             ],
             [
              0.7777777777777778,
              "#fb9f3a"
             ],
             [
              0.8888888888888888,
              "#fdca26"
             ],
             [
              1,
              "#f0f921"
             ]
            ],
            "type": "heatmapgl"
           }
          ],
          "histogram": [
           {
            "marker": {
             "pattern": {
              "fillmode": "overlay",
              "size": 10,
              "solidity": 0.2
             }
            },
            "type": "histogram"
           }
          ],
          "histogram2d": [
           {
            "colorbar": {
             "outlinewidth": 0,
             "ticks": ""
            },
            "colorscale": [
             [
              0,
              "#0d0887"
             ],
             [
              0.1111111111111111,
              "#46039f"
             ],
             [
              0.2222222222222222,
              "#7201a8"
             ],
             [
              0.3333333333333333,
              "#9c179e"
             ],
             [
              0.4444444444444444,
              "#bd3786"
             ],
             [
              0.5555555555555556,
              "#d8576b"
             ],
             [
              0.6666666666666666,
              "#ed7953"
             ],
             [
              0.7777777777777778,
              "#fb9f3a"
             ],
             [
              0.8888888888888888,
              "#fdca26"
             ],
             [
              1,
              "#f0f921"
             ]
            ],
            "type": "histogram2d"
           }
          ],
          "histogram2dcontour": [
           {
            "colorbar": {
             "outlinewidth": 0,
             "ticks": ""
            },
            "colorscale": [
             [
              0,
              "#0d0887"
             ],
             [
              0.1111111111111111,
              "#46039f"
             ],
             [
              0.2222222222222222,
              "#7201a8"
             ],
             [
              0.3333333333333333,
              "#9c179e"
             ],
             [
              0.4444444444444444,
              "#bd3786"
             ],
             [
              0.5555555555555556,
              "#d8576b"
             ],
             [
              0.6666666666666666,
              "#ed7953"
             ],
             [
              0.7777777777777778,
              "#fb9f3a"
             ],
             [
              0.8888888888888888,
              "#fdca26"
             ],
             [
              1,
              "#f0f921"
             ]
            ],
            "type": "histogram2dcontour"
           }
          ],
          "mesh3d": [
           {
            "colorbar": {
             "outlinewidth": 0,
             "ticks": ""
            },
            "type": "mesh3d"
           }
          ],
          "parcoords": [
           {
            "line": {
             "colorbar": {
              "outlinewidth": 0,
              "ticks": ""
             }
            },
            "type": "parcoords"
           }
          ],
          "pie": [
           {
            "automargin": true,
            "type": "pie"
           }
          ],
          "scatter": [
           {
            "fillpattern": {
             "fillmode": "overlay",
             "size": 10,
             "solidity": 0.2
            },
            "type": "scatter"
           }
          ],
          "scatter3d": [
           {
            "line": {
             "colorbar": {
              "outlinewidth": 0,
              "ticks": ""
             }
            },
            "marker": {
             "colorbar": {
              "outlinewidth": 0,
              "ticks": ""
             }
            },
            "type": "scatter3d"
           }
          ],
          "scattercarpet": [
           {
            "marker": {
             "colorbar": {
              "outlinewidth": 0,
              "ticks": ""
             }
            },
            "type": "scattercarpet"
           }
          ],
          "scattergeo": [
           {
            "marker": {
             "colorbar": {
              "outlinewidth": 0,
              "ticks": ""
             }
            },
            "type": "scattergeo"
           }
          ],
          "scattergl": [
           {
            "marker": {
             "colorbar": {
              "outlinewidth": 0,
              "ticks": ""
             }
            },
            "type": "scattergl"
           }
          ],
          "scattermapbox": [
           {
            "marker": {
             "colorbar": {
              "outlinewidth": 0,
              "ticks": ""
             }
            },
            "type": "scattermapbox"
           }
          ],
          "scatterpolar": [
           {
            "marker": {
             "colorbar": {
              "outlinewidth": 0,
              "ticks": ""
             }
            },
            "type": "scatterpolar"
           }
          ],
          "scatterpolargl": [
           {
            "marker": {
             "colorbar": {
              "outlinewidth": 0,
              "ticks": ""
             }
            },
            "type": "scatterpolargl"
           }
          ],
          "scatterternary": [
           {
            "marker": {
             "colorbar": {
              "outlinewidth": 0,
              "ticks": ""
             }
            },
            "type": "scatterternary"
           }
          ],
          "surface": [
           {
            "colorbar": {
             "outlinewidth": 0,
             "ticks": ""
            },
            "colorscale": [
             [
              0,
              "#0d0887"
             ],
             [
              0.1111111111111111,
              "#46039f"
             ],
             [
              0.2222222222222222,
              "#7201a8"
             ],
             [
              0.3333333333333333,
              "#9c179e"
             ],
             [
              0.4444444444444444,
              "#bd3786"
             ],
             [
              0.5555555555555556,
              "#d8576b"
             ],
             [
              0.6666666666666666,
              "#ed7953"
             ],
             [
              0.7777777777777778,
              "#fb9f3a"
             ],
             [
              0.8888888888888888,
              "#fdca26"
             ],
             [
              1,
              "#f0f921"
             ]
            ],
            "type": "surface"
           }
          ],
          "table": [
           {
            "cells": {
             "fill": {
              "color": "#EBF0F8"
             },
             "line": {
              "color": "white"
             }
            },
            "header": {
             "fill": {
              "color": "#C8D4E3"
             },
             "line": {
              "color": "white"
             }
            },
            "type": "table"
           }
          ]
         },
         "layout": {
          "annotationdefaults": {
           "arrowcolor": "#2a3f5f",
           "arrowhead": 0,
           "arrowwidth": 1
          },
          "autotypenumbers": "strict",
          "coloraxis": {
           "colorbar": {
            "outlinewidth": 0,
            "ticks": ""
           }
          },
          "colorscale": {
           "diverging": [
            [
             0,
             "#8e0152"
            ],
            [
             0.1,
             "#c51b7d"
            ],
            [
             0.2,
             "#de77ae"
            ],
            [
             0.3,
             "#f1b6da"
            ],
            [
             0.4,
             "#fde0ef"
            ],
            [
             0.5,
             "#f7f7f7"
            ],
            [
             0.6,
             "#e6f5d0"
            ],
            [
             0.7,
             "#b8e186"
            ],
            [
             0.8,
             "#7fbc41"
            ],
            [
             0.9,
             "#4d9221"
            ],
            [
             1,
             "#276419"
            ]
           ],
           "sequential": [
            [
             0,
             "#0d0887"
            ],
            [
             0.1111111111111111,
             "#46039f"
            ],
            [
             0.2222222222222222,
             "#7201a8"
            ],
            [
             0.3333333333333333,
             "#9c179e"
            ],
            [
             0.4444444444444444,
             "#bd3786"
            ],
            [
             0.5555555555555556,
             "#d8576b"
            ],
            [
             0.6666666666666666,
             "#ed7953"
            ],
            [
             0.7777777777777778,
             "#fb9f3a"
            ],
            [
             0.8888888888888888,
             "#fdca26"
            ],
            [
             1,
             "#f0f921"
            ]
           ],
           "sequentialminus": [
            [
             0,
             "#0d0887"
            ],
            [
             0.1111111111111111,
             "#46039f"
            ],
            [
             0.2222222222222222,
             "#7201a8"
            ],
            [
             0.3333333333333333,
             "#9c179e"
            ],
            [
             0.4444444444444444,
             "#bd3786"
            ],
            [
             0.5555555555555556,
             "#d8576b"
            ],
            [
             0.6666666666666666,
             "#ed7953"
            ],
            [
             0.7777777777777778,
             "#fb9f3a"
            ],
            [
             0.8888888888888888,
             "#fdca26"
            ],
            [
             1,
             "#f0f921"
            ]
           ]
          },
          "colorway": [
           "#636efa",
           "#EF553B",
           "#00cc96",
           "#ab63fa",
           "#FFA15A",
           "#19d3f3",
           "#FF6692",
           "#B6E880",
           "#FF97FF",
           "#FECB52"
          ],
          "font": {
           "color": "#2a3f5f"
          },
          "geo": {
           "bgcolor": "white",
           "lakecolor": "white",
           "landcolor": "#E5ECF6",
           "showlakes": true,
           "showland": true,
           "subunitcolor": "white"
          },
          "hoverlabel": {
           "align": "left"
          },
          "hovermode": "closest",
          "mapbox": {
           "style": "light"
          },
          "paper_bgcolor": "white",
          "plot_bgcolor": "#E5ECF6",
          "polar": {
           "angularaxis": {
            "gridcolor": "white",
            "linecolor": "white",
            "ticks": ""
           },
           "bgcolor": "#E5ECF6",
           "radialaxis": {
            "gridcolor": "white",
            "linecolor": "white",
            "ticks": ""
           }
          },
          "scene": {
           "xaxis": {
            "backgroundcolor": "#E5ECF6",
            "gridcolor": "white",
            "gridwidth": 2,
            "linecolor": "white",
            "showbackground": true,
            "ticks": "",
            "zerolinecolor": "white"
           },
           "yaxis": {
            "backgroundcolor": "#E5ECF6",
            "gridcolor": "white",
            "gridwidth": 2,
            "linecolor": "white",
            "showbackground": true,
            "ticks": "",
            "zerolinecolor": "white"
           },
           "zaxis": {
            "backgroundcolor": "#E5ECF6",
            "gridcolor": "white",
            "gridwidth": 2,
            "linecolor": "white",
            "showbackground": true,
            "ticks": "",
            "zerolinecolor": "white"
           }
          },
          "shapedefaults": {
           "line": {
            "color": "#2a3f5f"
           }
          },
          "ternary": {
           "aaxis": {
            "gridcolor": "white",
            "linecolor": "white",
            "ticks": ""
           },
           "baxis": {
            "gridcolor": "white",
            "linecolor": "white",
            "ticks": ""
           },
           "bgcolor": "#E5ECF6",
           "caxis": {
            "gridcolor": "white",
            "linecolor": "white",
            "ticks": ""
           }
          },
          "title": {
           "x": 0.05
          },
          "xaxis": {
           "automargin": true,
           "gridcolor": "white",
           "linecolor": "white",
           "ticks": "",
           "title": {
            "standoff": 15
           },
           "zerolinecolor": "white",
           "zerolinewidth": 2
          },
          "yaxis": {
           "automargin": true,
           "gridcolor": "white",
           "linecolor": "white",
           "ticks": "",
           "title": {
            "standoff": 15
           },
           "zerolinecolor": "white",
           "zerolinewidth": 2
          }
         }
        },
        "title": {
         "text": "Feature Importance"
        },
        "xaxis": {
         "anchor": "y",
         "categoryorder": "total ascending",
         "domain": [
          0,
          1
         ],
         "title": {
          "text": "Features"
         }
        },
        "yaxis": {
         "anchor": "x",
         "domain": [
          0,
          1
         ],
         "title": {
          "text": "Importance"
         }
        }
       }
      },
      "text/html": [
       "<div>                            <div id=\"f5ad5ba8-3b70-43dd-a519-ba89b032463f\" class=\"plotly-graph-div\" style=\"height:525px; width:100%;\"></div>            <script type=\"text/javascript\">                require([\"plotly\"], function(Plotly) {                    window.PLOTLYENV=window.PLOTLYENV || {};                                    if (document.getElementById(\"f5ad5ba8-3b70-43dd-a519-ba89b032463f\")) {                    Plotly.newPlot(                        \"f5ad5ba8-3b70-43dd-a519-ba89b032463f\",                        [{\"alignmentgroup\":\"True\",\"hovertemplate\":\"x=%{x}\\u003cbr\\u003ey=%{y}\\u003cextra\\u003e\\u003c\\u002fextra\\u003e\",\"legendgroup\":\"\",\"marker\":{\"color\":\"#636efa\",\"pattern\":{\"shape\":\"\"}},\"name\":\"\",\"offsetgroup\":\"\",\"orientation\":\"v\",\"showlegend\":false,\"textposition\":\"auto\",\"x\":[\"ID\",\"Height (cm)\",\"Weight (kg)\",\"Cholesterol Level (mg\\u002fdL)\",\"BMI\",\"Blood Glucose Level (mg\\u002fdL)\",\"Bone Density (g\\u002fcm²)\",\"Vision Sharpness\",\"Hearing Ability (dB)\",\"Physical Activity Level\",\"Cognitive Function\",\"Mental Health Status\",\"Stress Levels\",\"Pollution Exposure\",\"Sun Exposure\",\"Education Level\",\"Income Level\",\"SystolicBP\",\"DiastolicBP\",\"Gender_Female\",\"Gender_Male\",\"Smoking Status_Current\",\"Smoking Status_Former\",\"Smoking Status_Never\",\"Alcohol Consumption_Frequent\",\"Alcohol Consumption_Occasional\",\"Diet_Balanced\",\"Diet_High-fat\",\"Diet_Low-carb\",\"Diet_Vegetarian\",\"Chronic Diseases_Diabetes\",\"Chronic Diseases_Heart Disease\",\"Chronic Diseases_Hypertension\",\"Medication Use_Occasional\",\"Medication Use_Regular\",\"Family History_Diabetes\",\"Family History_Heart Disease\",\"Family History_Hypertension\",\"Sleep Patterns_Excessive\",\"Sleep Patterns_Insomnia\",\"Sleep Patterns_Normal\"],\"xaxis\":\"x\",\"y\":[0.0005464454391877404,0.0030904443969411413,0.0,0.017094189802482677,0.0,0.01055024679573728,0.6204716725934891,0.2652722708523011,0.032514394726641485,0.0,0.004242951611641347,0.0,0.001887589849182547,0.001503352126568945,0.0006924431533731631,0.00001719396339969856,0.0,0.01953493930804124,0.02023089454831417,0.0,0.0,0.0,0.0,0.0008016489976269429,0.001549321835071097,0.0,0.0,0.0,0.0,0.0,0.0,0.0,0.0,0.0,0.0,0.0,0.0,0.0,0.0,0.0,0.0],\"yaxis\":\"y\",\"type\":\"bar\"}],                        {\"template\":{\"data\":{\"histogram2dcontour\":[{\"type\":\"histogram2dcontour\",\"colorbar\":{\"outlinewidth\":0,\"ticks\":\"\"},\"colorscale\":[[0.0,\"#0d0887\"],[0.1111111111111111,\"#46039f\"],[0.2222222222222222,\"#7201a8\"],[0.3333333333333333,\"#9c179e\"],[0.4444444444444444,\"#bd3786\"],[0.5555555555555556,\"#d8576b\"],[0.6666666666666666,\"#ed7953\"],[0.7777777777777778,\"#fb9f3a\"],[0.8888888888888888,\"#fdca26\"],[1.0,\"#f0f921\"]]}],\"choropleth\":[{\"type\":\"choropleth\",\"colorbar\":{\"outlinewidth\":0,\"ticks\":\"\"}}],\"histogram2d\":[{\"type\":\"histogram2d\",\"colorbar\":{\"outlinewidth\":0,\"ticks\":\"\"},\"colorscale\":[[0.0,\"#0d0887\"],[0.1111111111111111,\"#46039f\"],[0.2222222222222222,\"#7201a8\"],[0.3333333333333333,\"#9c179e\"],[0.4444444444444444,\"#bd3786\"],[0.5555555555555556,\"#d8576b\"],[0.6666666666666666,\"#ed7953\"],[0.7777777777777778,\"#fb9f3a\"],[0.8888888888888888,\"#fdca26\"],[1.0,\"#f0f921\"]]}],\"heatmap\":[{\"type\":\"heatmap\",\"colorbar\":{\"outlinewidth\":0,\"ticks\":\"\"},\"colorscale\":[[0.0,\"#0d0887\"],[0.1111111111111111,\"#46039f\"],[0.2222222222222222,\"#7201a8\"],[0.3333333333333333,\"#9c179e\"],[0.4444444444444444,\"#bd3786\"],[0.5555555555555556,\"#d8576b\"],[0.6666666666666666,\"#ed7953\"],[0.7777777777777778,\"#fb9f3a\"],[0.8888888888888888,\"#fdca26\"],[1.0,\"#f0f921\"]]}],\"heatmapgl\":[{\"type\":\"heatmapgl\",\"colorbar\":{\"outlinewidth\":0,\"ticks\":\"\"},\"colorscale\":[[0.0,\"#0d0887\"],[0.1111111111111111,\"#46039f\"],[0.2222222222222222,\"#7201a8\"],[0.3333333333333333,\"#9c179e\"],[0.4444444444444444,\"#bd3786\"],[0.5555555555555556,\"#d8576b\"],[0.6666666666666666,\"#ed7953\"],[0.7777777777777778,\"#fb9f3a\"],[0.8888888888888888,\"#fdca26\"],[1.0,\"#f0f921\"]]}],\"contourcarpet\":[{\"type\":\"contourcarpet\",\"colorbar\":{\"outlinewidth\":0,\"ticks\":\"\"}}],\"contour\":[{\"type\":\"contour\",\"colorbar\":{\"outlinewidth\":0,\"ticks\":\"\"},\"colorscale\":[[0.0,\"#0d0887\"],[0.1111111111111111,\"#46039f\"],[0.2222222222222222,\"#7201a8\"],[0.3333333333333333,\"#9c179e\"],[0.4444444444444444,\"#bd3786\"],[0.5555555555555556,\"#d8576b\"],[0.6666666666666666,\"#ed7953\"],[0.7777777777777778,\"#fb9f3a\"],[0.8888888888888888,\"#fdca26\"],[1.0,\"#f0f921\"]]}],\"surface\":[{\"type\":\"surface\",\"colorbar\":{\"outlinewidth\":0,\"ticks\":\"\"},\"colorscale\":[[0.0,\"#0d0887\"],[0.1111111111111111,\"#46039f\"],[0.2222222222222222,\"#7201a8\"],[0.3333333333333333,\"#9c179e\"],[0.4444444444444444,\"#bd3786\"],[0.5555555555555556,\"#d8576b\"],[0.6666666666666666,\"#ed7953\"],[0.7777777777777778,\"#fb9f3a\"],[0.8888888888888888,\"#fdca26\"],[1.0,\"#f0f921\"]]}],\"mesh3d\":[{\"type\":\"mesh3d\",\"colorbar\":{\"outlinewidth\":0,\"ticks\":\"\"}}],\"scatter\":[{\"fillpattern\":{\"fillmode\":\"overlay\",\"size\":10,\"solidity\":0.2},\"type\":\"scatter\"}],\"parcoords\":[{\"type\":\"parcoords\",\"line\":{\"colorbar\":{\"outlinewidth\":0,\"ticks\":\"\"}}}],\"scatterpolargl\":[{\"type\":\"scatterpolargl\",\"marker\":{\"colorbar\":{\"outlinewidth\":0,\"ticks\":\"\"}}}],\"bar\":[{\"error_x\":{\"color\":\"#2a3f5f\"},\"error_y\":{\"color\":\"#2a3f5f\"},\"marker\":{\"line\":{\"color\":\"#E5ECF6\",\"width\":0.5},\"pattern\":{\"fillmode\":\"overlay\",\"size\":10,\"solidity\":0.2}},\"type\":\"bar\"}],\"scattergeo\":[{\"type\":\"scattergeo\",\"marker\":{\"colorbar\":{\"outlinewidth\":0,\"ticks\":\"\"}}}],\"scatterpolar\":[{\"type\":\"scatterpolar\",\"marker\":{\"colorbar\":{\"outlinewidth\":0,\"ticks\":\"\"}}}],\"histogram\":[{\"marker\":{\"pattern\":{\"fillmode\":\"overlay\",\"size\":10,\"solidity\":0.2}},\"type\":\"histogram\"}],\"scattergl\":[{\"type\":\"scattergl\",\"marker\":{\"colorbar\":{\"outlinewidth\":0,\"ticks\":\"\"}}}],\"scatter3d\":[{\"type\":\"scatter3d\",\"line\":{\"colorbar\":{\"outlinewidth\":0,\"ticks\":\"\"}},\"marker\":{\"colorbar\":{\"outlinewidth\":0,\"ticks\":\"\"}}}],\"scattermapbox\":[{\"type\":\"scattermapbox\",\"marker\":{\"colorbar\":{\"outlinewidth\":0,\"ticks\":\"\"}}}],\"scatterternary\":[{\"type\":\"scatterternary\",\"marker\":{\"colorbar\":{\"outlinewidth\":0,\"ticks\":\"\"}}}],\"scattercarpet\":[{\"type\":\"scattercarpet\",\"marker\":{\"colorbar\":{\"outlinewidth\":0,\"ticks\":\"\"}}}],\"carpet\":[{\"aaxis\":{\"endlinecolor\":\"#2a3f5f\",\"gridcolor\":\"white\",\"linecolor\":\"white\",\"minorgridcolor\":\"white\",\"startlinecolor\":\"#2a3f5f\"},\"baxis\":{\"endlinecolor\":\"#2a3f5f\",\"gridcolor\":\"white\",\"linecolor\":\"white\",\"minorgridcolor\":\"white\",\"startlinecolor\":\"#2a3f5f\"},\"type\":\"carpet\"}],\"table\":[{\"cells\":{\"fill\":{\"color\":\"#EBF0F8\"},\"line\":{\"color\":\"white\"}},\"header\":{\"fill\":{\"color\":\"#C8D4E3\"},\"line\":{\"color\":\"white\"}},\"type\":\"table\"}],\"barpolar\":[{\"marker\":{\"line\":{\"color\":\"#E5ECF6\",\"width\":0.5},\"pattern\":{\"fillmode\":\"overlay\",\"size\":10,\"solidity\":0.2}},\"type\":\"barpolar\"}],\"pie\":[{\"automargin\":true,\"type\":\"pie\"}]},\"layout\":{\"autotypenumbers\":\"strict\",\"colorway\":[\"#636efa\",\"#EF553B\",\"#00cc96\",\"#ab63fa\",\"#FFA15A\",\"#19d3f3\",\"#FF6692\",\"#B6E880\",\"#FF97FF\",\"#FECB52\"],\"font\":{\"color\":\"#2a3f5f\"},\"hovermode\":\"closest\",\"hoverlabel\":{\"align\":\"left\"},\"paper_bgcolor\":\"white\",\"plot_bgcolor\":\"#E5ECF6\",\"polar\":{\"bgcolor\":\"#E5ECF6\",\"angularaxis\":{\"gridcolor\":\"white\",\"linecolor\":\"white\",\"ticks\":\"\"},\"radialaxis\":{\"gridcolor\":\"white\",\"linecolor\":\"white\",\"ticks\":\"\"}},\"ternary\":{\"bgcolor\":\"#E5ECF6\",\"aaxis\":{\"gridcolor\":\"white\",\"linecolor\":\"white\",\"ticks\":\"\"},\"baxis\":{\"gridcolor\":\"white\",\"linecolor\":\"white\",\"ticks\":\"\"},\"caxis\":{\"gridcolor\":\"white\",\"linecolor\":\"white\",\"ticks\":\"\"}},\"coloraxis\":{\"colorbar\":{\"outlinewidth\":0,\"ticks\":\"\"}},\"colorscale\":{\"sequential\":[[0.0,\"#0d0887\"],[0.1111111111111111,\"#46039f\"],[0.2222222222222222,\"#7201a8\"],[0.3333333333333333,\"#9c179e\"],[0.4444444444444444,\"#bd3786\"],[0.5555555555555556,\"#d8576b\"],[0.6666666666666666,\"#ed7953\"],[0.7777777777777778,\"#fb9f3a\"],[0.8888888888888888,\"#fdca26\"],[1.0,\"#f0f921\"]],\"sequentialminus\":[[0.0,\"#0d0887\"],[0.1111111111111111,\"#46039f\"],[0.2222222222222222,\"#7201a8\"],[0.3333333333333333,\"#9c179e\"],[0.4444444444444444,\"#bd3786\"],[0.5555555555555556,\"#d8576b\"],[0.6666666666666666,\"#ed7953\"],[0.7777777777777778,\"#fb9f3a\"],[0.8888888888888888,\"#fdca26\"],[1.0,\"#f0f921\"]],\"diverging\":[[0,\"#8e0152\"],[0.1,\"#c51b7d\"],[0.2,\"#de77ae\"],[0.3,\"#f1b6da\"],[0.4,\"#fde0ef\"],[0.5,\"#f7f7f7\"],[0.6,\"#e6f5d0\"],[0.7,\"#b8e186\"],[0.8,\"#7fbc41\"],[0.9,\"#4d9221\"],[1,\"#276419\"]]},\"xaxis\":{\"gridcolor\":\"white\",\"linecolor\":\"white\",\"ticks\":\"\",\"title\":{\"standoff\":15},\"zerolinecolor\":\"white\",\"automargin\":true,\"zerolinewidth\":2},\"yaxis\":{\"gridcolor\":\"white\",\"linecolor\":\"white\",\"ticks\":\"\",\"title\":{\"standoff\":15},\"zerolinecolor\":\"white\",\"automargin\":true,\"zerolinewidth\":2},\"scene\":{\"xaxis\":{\"backgroundcolor\":\"#E5ECF6\",\"gridcolor\":\"white\",\"linecolor\":\"white\",\"showbackground\":true,\"ticks\":\"\",\"zerolinecolor\":\"white\",\"gridwidth\":2},\"yaxis\":{\"backgroundcolor\":\"#E5ECF6\",\"gridcolor\":\"white\",\"linecolor\":\"white\",\"showbackground\":true,\"ticks\":\"\",\"zerolinecolor\":\"white\",\"gridwidth\":2},\"zaxis\":{\"backgroundcolor\":\"#E5ECF6\",\"gridcolor\":\"white\",\"linecolor\":\"white\",\"showbackground\":true,\"ticks\":\"\",\"zerolinecolor\":\"white\",\"gridwidth\":2}},\"shapedefaults\":{\"line\":{\"color\":\"#2a3f5f\"}},\"annotationdefaults\":{\"arrowcolor\":\"#2a3f5f\",\"arrowhead\":0,\"arrowwidth\":1},\"geo\":{\"bgcolor\":\"white\",\"landcolor\":\"#E5ECF6\",\"subunitcolor\":\"white\",\"showland\":true,\"showlakes\":true,\"lakecolor\":\"white\"},\"title\":{\"x\":0.05},\"mapbox\":{\"style\":\"light\"}}},\"xaxis\":{\"anchor\":\"y\",\"domain\":[0.0,1.0],\"title\":{\"text\":\"Features\"},\"categoryorder\":\"total ascending\"},\"yaxis\":{\"anchor\":\"x\",\"domain\":[0.0,1.0],\"title\":{\"text\":\"Importance\"}},\"legend\":{\"tracegroupgap\":0},\"margin\":{\"t\":60},\"barmode\":\"relative\",\"title\":{\"text\":\"Feature Importance\"}},                        {\"responsive\": true}                    ).then(function(){\n",
       "                            \n",
       "var gd = document.getElementById('f5ad5ba8-3b70-43dd-a519-ba89b032463f');\n",
       "var x = new MutationObserver(function (mutations, observer) {{\n",
       "        var display = window.getComputedStyle(gd).display;\n",
       "        if (!display || display === 'none') {{\n",
       "            console.log([gd, 'removed!']);\n",
       "            Plotly.purge(gd);\n",
       "            observer.disconnect();\n",
       "        }}\n",
       "}});\n",
       "\n",
       "// Listen for the removal of the full notebook cells\n",
       "var notebookContainer = gd.closest('#notebook-container');\n",
       "if (notebookContainer) {{\n",
       "    x.observe(notebookContainer, {childList: true});\n",
       "}}\n",
       "\n",
       "// Listen for the clearing of the current output cell\n",
       "var outputEl = gd.closest('.output');\n",
       "if (outputEl) {{\n",
       "    x.observe(outputEl, {childList: true});\n",
       "}}\n",
       "\n",
       "                        })                };                });            </script>        </div>"
      ]
     },
     "metadata": {},
     "output_type": "display_data"
    }
   ],
   "source": [
    "\n",
    "# plot the feature importance using plotly\n",
    "\n",
    "import plotly.express as px\n",
    "\n",
    "fig = px.bar(x=X_train_val.columns, y=clf.feature_importances_)\n",
    "fig.update_layout(title='Feature Importance')\n",
    "fig.update_xaxes(title='Features')\n",
    "fig.update_yaxes(title='Importance')\n",
    "# sort by importance\n",
    "fig.update_xaxes(categoryorder='total ascending')\n",
    "fig.show()\n"
   ]
  },
  {
   "cell_type": "markdown",
   "metadata": {},
   "source": [
    "## adaboost \n",
    "- should help improve bias "
   ]
  },
  {
   "cell_type": "code",
   "execution_count": 244,
   "metadata": {},
   "outputs": [
    {
     "name": "stdout",
     "output_type": "stream",
     "text": [
      "Fitting 5 folds for each of 18 candidates, totalling 90 fits\n",
      "Best parameters: {'learning_rate': 0.1, 'loss': 'exponential', 'n_estimators': 500}\n",
      "Best RMSE: 5.805832468393518\n"
     ]
    }
   ],
   "source": [
    "## adaboost\n",
    "from sklearn.ensemble import AdaBoostRegressor\n",
    "\n",
    "model = AdaBoostRegressor(random_state=random_state)\n",
    "\n",
    "# Grid search for random forrest\n",
    "param_grid = {\n",
    "    'n_estimators': [100, 500, 1000],\n",
    "    'learning_rate': [0.01, 0.1],\n",
    "    'loss': ['linear', 'square', 'exponential'],\n",
    "}\n",
    "\n",
    "grid_search = GridSearchCV(\n",
    "    estimator=model,\n",
    "    param_grid=param_grid,\n",
    "    cv=5,\n",
    "    scoring='neg_root_mean_squared_error',\n",
    "    n_jobs=-1,\n",
    "    verbose=2\n",
    ")\n",
    "\n",
    "grid_search.fit(X_train_val, y_train_val)\n",
    "\n",
    "# Print best parameters\n",
    "print(\"Best parameters:\", grid_search.best_params_)\n",
    "print(\"Best RMSE:\", -grid_search.best_score_)\n"
   ]
  },
  {
   "cell_type": "markdown",
   "metadata": {},
   "source": [
    "bias was not expected to be a problem - and it isn't - adaboost is slightly worse than bagging(random forrest) model"
   ]
  },
  {
   "cell_type": "markdown",
   "metadata": {},
   "source": [
    "## ridge regression\n",
    "- i was only using decision tree based approaches so far - will try regularized(ridge) regression to try and improve the outcomes\n"
   ]
  },
  {
   "cell_type": "code",
   "execution_count": 289,
   "metadata": {},
   "outputs": [
    {
     "name": "stdout",
     "output_type": "stream",
     "text": [
      "Fitting 5 folds for each of 5 candidates, totalling 25 fits\n",
      "Best parameters: {'alpha': 0.2}\n",
      "Best RMSE: 5.242226397613262\n"
     ]
    }
   ],
   "source": [
    "from sklearn.linear_model import Ridge\n",
    "\n",
    "def ridge_regression(X_train_val, y_train_val):\n",
    "    \"\"\"\n",
    "    Ridge regression with param optimization and cross validation \n",
    "    \"\"\"\n",
    "    model = Ridge(random_state=random_state)\n",
    "\n",
    "    param_grid = {\n",
    "        'alpha': [0.01, 0.1, 0.2, 1, 10]\n",
    "        \n",
    "    }\n",
    "\n",
    "    grid_search = GridSearchCV(\n",
    "        estimator=model,\n",
    "        param_grid=param_grid,\n",
    "        cv=5,\n",
    "        scoring='neg_root_mean_squared_error',\n",
    "        n_jobs=-1,\n",
    "        verbose=2\n",
    "    )\n",
    "\n",
    "    grid_search.fit(X_train_val, y_train_val)\n",
    "\n",
    "    print(\"Best parameters:\", grid_search.best_params_)\n",
    "    print(\"Best RMSE:\", -grid_search.best_score_)\n",
    "\n",
    "ridge_regression(X_train_val, y_train_val)"
   ]
  },
  {
   "cell_type": "code",
   "execution_count": 310,
   "metadata": {},
   "outputs": [
    {
     "name": "stdout",
     "output_type": "stream",
     "text": [
      "Fitting 5 folds for each of 5 candidates, totalling 25 fits\n",
      "Best parameters: {'alpha': 1}\n",
      "Best RMSE: 5.24210379886099\n"
     ]
    }
   ],
   "source": [
    "# try with scaled data\n",
    "scaler = StandardScaler()\n",
    "scaler.fit(X_train_val)\n",
    "X_train_val_scaled = scaler.transform(X_train_val)\n",
    "\n",
    "ridge_regression(X_train_val_scaled, y_train_val)"
   ]
  },
  {
   "cell_type": "markdown",
   "metadata": {},
   "source": [
    "- ridge regression seems to produce even better outcomes \n",
    "- scaling(standardization) doesn't really cause great improvements\n",
    "- i will try to improve the results using PCA - to improve signal/noise ratio and reduce dimensionality"
   ]
  },
  {
   "cell_type": "code",
   "execution_count": 303,
   "metadata": {},
   "outputs": [
    {
     "name": "stdout",
     "output_type": "stream",
     "text": [
      "Fitting 5 folds for each of 5 candidates, totalling 25 fits\n",
      "Best parameters: {'alpha': 10}\n",
      "Best RMSE: 6.646427925549162\n"
     ]
    },
    {
     "data": {
      "image/png": "[encoded data removed]",
      "text/plain": [
       "<Figure size 640x480 with 1 Axes>"
      ]
     },
     "metadata": {},
     "output_type": "display_data"
    },
    {
     "data": {
      "image/png": "[encoded data removed]",
      "text/plain": [
       "<Figure size 640x480 with 1 Axes>"
      ]
     },
     "metadata": {},
     "output_type": "display_data"
    }
   ],
   "source": [
    "# PCA transform\n",
    "from sklearn.decomposition import PCA\n",
    "\n",
    "pca = PCA(n_components=0.95)\n",
    "pca.fit(X_train_val_scaled)\n",
    "X_train_val_pca = pca.transform(X_train_val_scaled)\n",
    "\n",
    "ridge_regression(X_train_val_pca, y_train_val)\n",
    "\n",
    "\n",
    "# plot the explained variance\n",
    "plt.plot(range(1, len(pca.explained_variance_ratio_) + 1), pca.explained_variance_ratio_)\n",
    "plt.xlabel('Principal Component')\n",
    "plt.ylabel('Explained Variance')\n",
    "plt.title('Explained Variance vs Principal Component')\n",
    "plt.show()\n",
    "\n",
    "# cumulative explained variance\n",
    "plt.plot(range(1, len(pca.explained_variance_ratio_) + 1), np.cumsum(pca.explained_variance_ratio_))\n",
    "plt.xlabel('Principal Component')\n",
    "plt.ylabel('Cumulative Explained Variance')\n",
    "plt.title('Cumulative Explained Variance vs Principal Component')\n",
    "plt.show()"
   ]
  },
  {
   "cell_type": "markdown",
   "metadata": {},
   "source": [
    "- PCA doesn't seem to help - in fact, it only makes it worse"
   ]
  },
  {
   "cell_type": "markdown",
   "metadata": {},
   "source": [
    "## support vector regression - introduce non-linearity\n",
    "- non-linear relationships could help - could add kernel functions to regression models - will therefore try SVM regression with different kernels\n"
   ]
  },
  {
   "cell_type": "code",
   "execution_count": 325,
   "metadata": {},
   "outputs": [
    {
     "name": "stdout",
     "output_type": "stream",
     "text": [
      "Fitting 5 folds for each of 32 candidates, totalling 160 fits\n"
     ]
    },
    {
     "name": "stderr",
     "output_type": "stream",
     "text": [
      "17669.54s - pydevd: Sending message related to process being replaced timed-out after 5 seconds\n",
      "17669.55s - pydevd: Sending message related to process being replaced timed-out after 5 seconds\n",
      "17669.56s - pydevd: Sending message related to process being replaced timed-out after 5 seconds\n",
      "17669.57s - pydevd: Sending message related to process being replaced timed-out after 5 seconds\n",
      "17669.57s - pydevd: Sending message related to process being replaced timed-out after 5 seconds\n",
      "17669.59s - pydevd: Sending message related to process being replaced timed-out after 5 seconds\n",
      "17669.59s - pydevd: Sending message related to process being replaced timed-out after 5 seconds\n",
      "17669.61s - pydevd: Sending message related to process being replaced timed-out after 5 seconds\n"
     ]
    },
    {
     "name": "stdout",
     "output_type": "stream",
     "text": [
      "Best parameters: {'C': 1, 'gamma': 'scale', 'kernel': 'linear'}\n",
      "Best RMSE: 5.267958258517173\n"
     ]
    }
   ],
   "source": [
    "\n",
    "# optimize params \n",
    "from sklearn.model_selection import GridSearchCV\n",
    "from sklearn.svm import SVR\n",
    "\n",
    "model = SVR()\n",
    "\n",
    "param_grid = {\n",
    "    'C': [0.1, 1, 10, 100],\n",
    "    'kernel': ['linear', 'poly', 'rbf', 'sigmoid'],\n",
    "    'gamma': ['scale', 'auto']\n",
    "}\n",
    "\n",
    "grid_search = GridSearchCV(\n",
    "    estimator=model,\n",
    "    param_grid=param_grid,\n",
    "    cv=5,\n",
    "    scoring='neg_root_mean_squared_error',\n",
    "    n_jobs=-1,\n",
    "    verbose=2\n",
    ")\n",
    "\n",
    "grid_search.fit(X_train_val_scaled, y_train_val)\n",
    "\n",
    "# Print best parameters\n",
    "print(\"Best parameters:\", grid_search.best_params_)\n",
    "print(\"Best RMSE:\", -grid_search.best_score_)"
   ]
  },
  {
   "cell_type": "markdown",
   "metadata": {},
   "source": [
    "- the introduction of non-linearity in SVM regression didn't seem to help, but the results are comparable to the other models\n"
   ]
  },
  {
   "cell_type": "markdown",
   "metadata": {},
   "source": [
    "## basis expansion\n",
    "- i will try to improve the results using basis expansion to add other features to the model\n"
   ]
  },
  {
   "cell_type": "code",
   "execution_count": 420,
   "metadata": {},
   "outputs": [],
   "source": [
    "import numpy as np\n",
    "from sklearn.compose import ColumnTransformer\n",
    "from sklearn.preprocessing import FunctionTransformer\n",
    "from sklearn.pipeline import Pipeline\n",
    "from sklearn.linear_model import LinearRegression\n",
    "from sklearn.preprocessing import PolynomialFeatures\n",
    "\n",
    "def create_transformations(X):\n",
    "    return np.column_stack([\n",
    "        # Original features\n",
    "        X,\n",
    "        # Trigonometric\n",
    "        np.sin(X),\n",
    "        np.cos(X),\n",
    "    ])\n",
    "\n",
    "\n",
    "# Create pipeline\n",
    "model = Pipeline([\n",
    "    ('transform', FunctionTransformer(create_transformations)),\n",
    "    ('regression', LinearRegression())\n",
    "])\n",
    "\n"
   ]
  },
  {
   "cell_type": "code",
   "execution_count": 421,
   "metadata": {},
   "outputs": [
    {
     "name": "stdout",
     "output_type": "stream",
     "text": [
      "RMSE: 5.193597334325494\n"
     ]
    }
   ],
   "source": [
    "model.fit(X_train_val, y_train_val)\n",
    "\n",
    "# evaluate using cross validation\n",
    "from sklearn.model_selection import cross_val_score\n",
    "\n",
    "scores = cross_val_score(model, X_train_val, y_train_val, cv=5, scoring='neg_root_mean_squared_error')\n",
    "print(f\"RMSE: {-scores.mean()}\")\n",
    "\n"
   ]
  },
  {
   "cell_type": "markdown",
   "metadata": {},
   "source": [
    "- trigonometric features actually helped the most - linear regression with this\n",
    "transformation performed the best - 5.19 RMSE\n",
    "\n",
    "# discussion\n",
    "- linear regression with basis expansion performed the best - 5.19 RMSE\n",
    "- what might be a problem is that this model is not regularized and it might be unstable - also the trigonometric feeatures are a little bit arbitrary and odd \n",
    "    - if the features are more correlated in the prediction, it might give odd results\n",
    "    - but the regularization of the model actually somewhat hurts performance\n",
    "\n",
    "- i will proceed with testing the linear regression with basis expansion on the test set"
   ]
  },
  {
   "cell_type": "code",
   "execution_count": 424,
   "metadata": {},
   "outputs": [
    {
     "name": "stdout",
     "output_type": "stream",
     "text": [
      "RMSE on test set: 5.087112643538054\n"
     ]
    },
    {
     "name": "stderr",
     "output_type": "stream",
     "text": [
      "/Users/matejkubovcak/anaconda3/lib/python3.10/site-packages/sklearn/metrics/_regression.py:492: FutureWarning:\n",
      "\n",
      "'squared' is deprecated in version 1.4 and will be removed in 1.6. To calculate the root mean squared error, use the function'root_mean_squared_error'.\n",
      "\n"
     ]
    },
    {
     "data": {
      "image/png": "[encoded data removed]",
      "text/plain": [
       "<Figure size 640x480 with 1 Axes>"
      ]
     },
     "metadata": {},
     "output_type": "display_data"
    },
    {
     "name": "stdout",
     "output_type": "stream",
     "text": [
      "R2 of the model: 0.9412234631136134\n"
     ]
    }
   ],
   "source": [
    "# test the model on Xtest\n",
    "ytest_pred = model.predict(Xtest)\n",
    "\n",
    "# print the RMSE\n",
    "print(f\"RMSE on test set: {mean_squared_error(ytest, ytest_pred, squared=False)}\")\n",
    "\n",
    "# plot the predicted vs actual\n",
    "plt.scatter(ytest, ytest_pred)\n",
    "plt.xlabel('Actual Age')\n",
    "plt.ylabel('Predicted Age')\n",
    "plt.title('Actual vs Predicted Age')\n",
    "plt.show()\n",
    "\n",
    "# R2 of the model\n",
    "print(f\"R2 of the model: {model.score(Xtest, ytest)}\")"
   ]
  },
  {
   "cell_type": "markdown",
   "metadata": {},
   "source": [
    "# conclusion \n",
    "- the model performed surprisingly well - 5.09 RMSE on the test set\n",
    "- this means it wasn't overfitting and it generalizes well\n",
    "- the model explains ~94% of the variance in the test set\n",
    "- the model is able to predict the age of a person with an expected error of ~5 years based on ~20 features"
   ]
  }
 ],
 "metadata": {
  "kernelspec": {
   "display_name": "Python 3 (ipykernel)",
   "language": "python",
   "name": "python3"
  },
  "language_info": {
   "codemirror_mode": {
    "name": "ipython",
    "version": 3
   },
   "file_extension": ".py",
   "mimetype": "text/x-python",
   "name": "python",
   "nbconvert_exporter": "python",
   "pygments_lexer": "ipython3",
   "version": "3.10.9"
  }
 },
 "nbformat": 4,
 "nbformat_minor": 2
}
